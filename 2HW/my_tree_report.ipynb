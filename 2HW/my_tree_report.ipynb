{
 "cells": [
  {
   "cell_type": "code",
   "execution_count": 1,
   "metadata": {
    "collapsed": true
   },
   "outputs": [],
   "source": [
    "import pandas as pd\n",
    "import math\n",
    "from sklearn.model_selection import train_test_split\n",
    "import numpy as np\n",
    "from sklearn.datasets import load_boston\n",
    "from tree import DecisionTreeClassifier\n",
    "from sklearn.tree import DecisionTreeRegressor"
   ]
  },
  {
   "cell_type": "code",
   "execution_count": 2,
   "metadata": {
    "collapsed": true
   },
   "outputs": [],
   "source": [
    "boston = load_boston()\n",
    "X, X_test, y, y_test = train_test_split(boston.data, boston.target, test_size=0.25)"
   ]
  },
  {
   "cell_type": "markdown",
   "metadata": {},
   "source": [
    "Сначала посмотрим на работу моего дерева, а именно, как оно переобучается."
   ]
  },
  {
   "cell_type": "code",
   "execution_count": 8,
   "metadata": {
    "collapsed": false
   },
   "outputs": [
    {
     "name": "stdout",
     "output_type": "stream",
     "text": [
      "[28.699999999999999, 20.233333333333334, 26.399999999999999, 25.300000000000001, 22.199999999999999, 22.5, 33.100000000000001, 19.399999999999999, 20.585714285714285, 19.600000000000001]\n",
      "[ 28.7  20.3  26.4  25.3  22.2  21.4  33.1  19.4  22.2  19.6]\n",
      "0.931772770741\n"
     ]
    }
   ],
   "source": [
    "model = DecisionTreeClassifier(max_depth=15)\n",
    "model.fit(X, y)\n",
    "a = model.predict(X)\n",
    "print a[:10]\n",
    "print y[:10]\n",
    "print math.sqrt(np.sum((y-a)**2)/float(len(a)))"
   ]
  },
  {
   "cell_type": "markdown",
   "metadata": {},
   "source": [
    "Видно, что переобучается отилично, средняя ошибка всего 1. Далее сравним с деревом из sklearn"
   ]
  },
  {
   "cell_type": "code",
   "execution_count": 22,
   "metadata": {
    "collapsed": false
   },
   "outputs": [
    {
     "name": "stdout",
     "output_type": "stream",
     "text": [
      "[20.660975609756097, 15.963157894736845, 19.466666666666669, 29.199999999999999, 20.660975609756097, 41.322222222222223, 24.48928571428571, 14.133333333333335, 24.48928571428571, 15.963157894736845]\n",
      "5.48217534508\n",
      "[ 20.34878049  13.53846154  20.34878049  33.46666667  18.7375      33.46666667\n",
      "  20.34878049  19.02941176  20.34878049  15.14      ]\n",
      "4.35030362776\n"
     ]
    }
   ],
   "source": [
    "max_depth = 7\n",
    "model1 = DecisionTreeClassifier(max_depth=max_depth)\n",
    "model1.fit(X, y)\n",
    "a = model1.predict(X_test)\n",
    "print a[:10]\n",
    "print math.sqrt(np.sum((y_test-a)**2)/float(len(a)))\n",
    "\n",
    "model2 = DecisionTreeRegressor(max_depth=max_depth)\n",
    "model2.fit(X, y)\n",
    "b = model2.predict(X_test)\n",
    "print b[:10]\n",
    "print math.sqrt(np.sum((y_test-b)**2)/float(len(b)))"
   ]
  },
  {
   "cell_type": "markdown",
   "metadata": {},
   "source": [
    "Видно, что ошибка, так же как и ответы обоих деревьев, отличаются не очень сильно, из чего делаю вывод, что в целом дерево реализовано правильно."
   ]
  },
  {
   "cell_type": "code",
   "execution_count": null,
   "metadata": {
    "collapsed": true
   },
   "outputs": [],
   "source": []
  }
 ],
 "metadata": {
  "kernelspec": {
   "display_name": "Python 2",
   "language": "python",
   "name": "python2"
  },
  "language_info": {
   "codemirror_mode": {
    "name": "ipython",
    "version": 2
   },
   "file_extension": ".py",
   "mimetype": "text/x-python",
   "name": "python",
   "nbconvert_exporter": "python",
   "pygments_lexer": "ipython2",
   "version": "2.7.12"
  }
 },
 "nbformat": 4,
 "nbformat_minor": 0
}
