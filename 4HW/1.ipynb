{
 "cells": [
  {
   "cell_type": "markdown",
   "metadata": {},
   "source": [
    "Первое знакомство с данными"
   ]
  },
  {
   "cell_type": "code",
   "execution_count": 113,
   "metadata": {
    "collapsed": true
   },
   "outputs": [],
   "source": [
    "import pandas as pd\n",
    "from sklearn.metrics import roc_auc_score\n",
    "from sklearn.model_selection import cross_val_score\n",
    "from sklearn.feature_extraction.text import CountVectorizer\n",
    "from sklearn.feature_extraction import DictVectorizer\n",
    "from sklearn.pipeline import Pipeline, make_pipeline\n",
    "from sklearn.svm import SVC, LinearSVC\n",
    "import numpy as np\n",
    "import seaborn as sns\n",
    "import matplotlib.pyplot as plt\n",
    "from sklearn.feature_extraction.text import CountVectorizer, TfidfVectorizer\n",
    "from sklearn.ensemble import RandomForestClassifier, ExtraTreesClassifier\n",
    "from sklearn.linear_model import LogisticRegression, LinearRegression\n",
    "from sklearn.model_selection import cross_val_score, StratifiedKFold\n",
    "from sklearn.svm import SVC\n",
    "from sklearn.metrics import roc_auc_score\n",
    "from scipy.sparse import csr_matrix, hstack, vstack, csc_matrix\n",
    "from nltk.stem import PorterStemmer\n",
    "import scipy as sc\n",
    "from sklearn.preprocessing import OneHotEncoder\n",
    "from mlxtend.classifier import StackingClassifier, StackingCVClassifier\n",
    "from xgboost import XGBClassifier\n",
    "from sklearn.neighbors import KNeighborsClassifier\n",
    "import nltk\n",
    "%matplotlib inline"
   ]
  },
  {
   "cell_type": "code",
   "execution_count": 114,
   "metadata": {
    "collapsed": false
   },
   "outputs": [],
   "source": [
    "train = pd.read_csv('task2_lemmas_train.txt', names=['Id', 'X', 'y'])\n",
    "test = pd.read_csv('task2_lemmas_test.txt', names=['Id', 'X'])"
   ]
  },
  {
   "cell_type": "code",
   "execution_count": 115,
   "metadata": {
    "collapsed": false
   },
   "outputs": [
    {
     "data": {
      "text/html": [
       "<div>\n",
       "<table border=\"1\" class=\"dataframe\">\n",
       "  <thead>\n",
       "    <tr style=\"text-align: right;\">\n",
       "      <th></th>\n",
       "      <th>Id</th>\n",
       "      <th>X</th>\n",
       "      <th>y</th>\n",
       "    </tr>\n",
       "  </thead>\n",
       "  <tbody>\n",
       "    <tr>\n",
       "      <th>0</th>\n",
       "      <td>Id</td>\n",
       "      <td>X</td>\n",
       "      <td>y</td>\n",
       "    </tr>\n",
       "    <tr>\n",
       "      <th>1</th>\n",
       "      <td>1</td>\n",
       "      <td>vergognerete</td>\n",
       "      <td>vergognare+V</td>\n",
       "    </tr>\n",
       "    <tr>\n",
       "      <th>2</th>\n",
       "      <td>2</td>\n",
       "      <td>amnistiavate</td>\n",
       "      <td>amnistiare+V</td>\n",
       "    </tr>\n",
       "    <tr>\n",
       "      <th>3</th>\n",
       "      <td>3</td>\n",
       "      <td>menomazione</td>\n",
       "      <td>menomazione+N</td>\n",
       "    </tr>\n",
       "    <tr>\n",
       "      <th>4</th>\n",
       "      <td>4</td>\n",
       "      <td>sfaldavamo</td>\n",
       "      <td>sfaldare+V</td>\n",
       "    </tr>\n",
       "    <tr>\n",
       "      <th>5</th>\n",
       "      <td>5</td>\n",
       "      <td>sfodererei</td>\n",
       "      <td>sfoderare+V</td>\n",
       "    </tr>\n",
       "    <tr>\n",
       "      <th>6</th>\n",
       "      <td>6</td>\n",
       "      <td>ascondesti</td>\n",
       "      <td>ascondere+V</td>\n",
       "    </tr>\n",
       "    <tr>\n",
       "      <th>7</th>\n",
       "      <td>7</td>\n",
       "      <td>edifichereste</td>\n",
       "      <td>edificare+V</td>\n",
       "    </tr>\n",
       "    <tr>\n",
       "      <th>8</th>\n",
       "      <td>8</td>\n",
       "      <td>maschieran</td>\n",
       "      <td>maschiare+V</td>\n",
       "    </tr>\n",
       "    <tr>\n",
       "      <th>9</th>\n",
       "      <td>9</td>\n",
       "      <td>transennasser</td>\n",
       "      <td>transennare+V</td>\n",
       "    </tr>\n",
       "  </tbody>\n",
       "</table>\n",
       "</div>"
      ],
      "text/plain": [
       "   Id              X              y\n",
       "0  Id              X              y\n",
       "1   1   vergognerete   vergognare+V\n",
       "2   2   amnistiavate   amnistiare+V\n",
       "3   3    menomazione  menomazione+N\n",
       "4   4     sfaldavamo     sfaldare+V\n",
       "5   5     sfodererei    sfoderare+V\n",
       "6   6     ascondesti    ascondere+V\n",
       "7   7  edifichereste    edificare+V\n",
       "8   8     maschieran    maschiare+V\n",
       "9   9  transennasser  transennare+V"
      ]
     },
     "execution_count": 115,
     "metadata": {},
     "output_type": "execute_result"
    }
   ],
   "source": [
    "train[:10]"
   ]
  },
  {
   "cell_type": "code",
   "execution_count": 116,
   "metadata": {
    "collapsed": false
   },
   "outputs": [],
   "source": [
    "train = train.drop(['Id'], axis=1)\n",
    "train = train.drop(0, axis=0)\n",
    "test = test.drop(['Id'], axis=1)\n",
    "test = test.drop(0, axis=0)"
   ]
  },
  {
   "cell_type": "code",
   "execution_count": 117,
   "metadata": {
    "collapsed": false
   },
   "outputs": [
    {
     "data": {
      "text/html": [
       "<div>\n",
       "<table border=\"1\" class=\"dataframe\">\n",
       "  <thead>\n",
       "    <tr style=\"text-align: right;\">\n",
       "      <th></th>\n",
       "      <th>X</th>\n",
       "      <th>y</th>\n",
       "    </tr>\n",
       "  </thead>\n",
       "  <tbody>\n",
       "    <tr>\n",
       "      <th>11</th>\n",
       "      <td>accudisser</td>\n",
       "      <td>accudire+V</td>\n",
       "    </tr>\n",
       "    <tr>\n",
       "      <th>12</th>\n",
       "      <td>diromperanno</td>\n",
       "      <td>dirompere+V</td>\n",
       "    </tr>\n",
       "    <tr>\n",
       "      <th>13</th>\n",
       "      <td>intercollegai</td>\n",
       "      <td>intercollegare+V</td>\n",
       "    </tr>\n",
       "    <tr>\n",
       "      <th>14</th>\n",
       "      <td>integrando</td>\n",
       "      <td>integrare+V</td>\n",
       "    </tr>\n",
       "    <tr>\n",
       "      <th>15</th>\n",
       "      <td>sbramerebbero</td>\n",
       "      <td>sbramare+V</td>\n",
       "    </tr>\n",
       "    <tr>\n",
       "      <th>16</th>\n",
       "      <td>stravaccherebbero</td>\n",
       "      <td>stravaccare+V</td>\n",
       "    </tr>\n",
       "    <tr>\n",
       "      <th>17</th>\n",
       "      <td>oltrepassasser</td>\n",
       "      <td>oltrepassare+V</td>\n",
       "    </tr>\n",
       "    <tr>\n",
       "      <th>18</th>\n",
       "      <td>cauzionavan</td>\n",
       "      <td>cauzionare+V</td>\n",
       "    </tr>\n",
       "    <tr>\n",
       "      <th>19</th>\n",
       "      <td>scarrozzata</td>\n",
       "      <td>scarrozzare+V</td>\n",
       "    </tr>\n",
       "    <tr>\n",
       "      <th>20</th>\n",
       "      <td>intossicassero</td>\n",
       "      <td>intossicare+V</td>\n",
       "    </tr>\n",
       "  </tbody>\n",
       "</table>\n",
       "</div>"
      ],
      "text/plain": [
       "                    X                 y\n",
       "11         accudisser        accudire+V\n",
       "12       diromperanno       dirompere+V\n",
       "13      intercollegai  intercollegare+V\n",
       "14         integrando       integrare+V\n",
       "15      sbramerebbero        sbramare+V\n",
       "16  stravaccherebbero     stravaccare+V\n",
       "17     oltrepassasser    oltrepassare+V\n",
       "18        cauzionavan      cauzionare+V\n",
       "19        scarrozzata     scarrozzare+V\n",
       "20     intossicassero     intossicare+V"
      ]
     },
     "execution_count": 117,
     "metadata": {},
     "output_type": "execute_result"
    }
   ],
   "source": [
    "train[10:20]"
   ]
  },
  {
   "cell_type": "code",
   "execution_count": 118,
   "metadata": {
    "collapsed": false
   },
   "outputs": [
    {
     "data": {
      "text/html": [
       "<div>\n",
       "<table border=\"1\" class=\"dataframe\">\n",
       "  <thead>\n",
       "    <tr style=\"text-align: right;\">\n",
       "      <th></th>\n",
       "      <th>X</th>\n",
       "    </tr>\n",
       "  </thead>\n",
       "  <tbody>\n",
       "    <tr>\n",
       "      <th>1</th>\n",
       "      <td>gettonan</td>\n",
       "    </tr>\n",
       "    <tr>\n",
       "      <th>2</th>\n",
       "      <td>incidentali</td>\n",
       "    </tr>\n",
       "    <tr>\n",
       "      <th>3</th>\n",
       "      <td>involtino</td>\n",
       "    </tr>\n",
       "  </tbody>\n",
       "</table>\n",
       "</div>"
      ],
      "text/plain": [
       "             X\n",
       "1     gettonan\n",
       "2  incidentali\n",
       "3    involtino"
      ]
     },
     "execution_count": 118,
     "metadata": {},
     "output_type": "execute_result"
    }
   ],
   "source": [
    "test[:3]"
   ]
  },
  {
   "cell_type": "code",
   "execution_count": 119,
   "metadata": {
    "collapsed": true
   },
   "outputs": [],
   "source": [
    "from nltk.stem import PorterStemmer\n",
    "from nltk.stem.lancaster import LancasterStemmer"
   ]
  },
  {
   "cell_type": "code",
   "execution_count": 120,
   "metadata": {
    "collapsed": false
   },
   "outputs": [
    {
     "name": "stdout",
     "output_type": "stream",
     "text": [
      "vergognerete -> vergogneret\n",
      "vergognerete -> vergogneret\n",
      "amnistiavate -> amnistiav\n",
      "amnistiavate -> amnistiav\n",
      "menomazione -> menomazion\n",
      "menomazione -> menomaz\n",
      "sfaldavamo -> sfaldavamo\n",
      "sfaldavamo -> sfaldavamo\n",
      "sfodererei -> sfodererei\n",
      "sfodererei -> sfoderere\n",
      "ascondesti -> ascondesti\n",
      "ascondesti -> ascondest\n",
      "edifichereste -> edificherest\n",
      "edifichereste -> edificherest\n",
      "maschieran -> maschieran\n",
      "maschieran -> maschy\n",
      "transennasser -> transennass\n",
      "transennasser -> transennass\n",
      "computando -> computando\n",
      "computando -> computando\n"
     ]
    }
   ],
   "source": [
    "ps = PorterStemmer()\n",
    "ps2 = LancasterStemmer()\n",
    "for word in train.X[:10]: \n",
    "    print word, \"->\", ps.stem(word)\n",
    "    print word, \"->\", ps2.stem(word)"
   ]
  },
  {
   "cell_type": "code",
   "execution_count": 121,
   "metadata": {
    "collapsed": false
   },
   "outputs": [],
   "source": [
    "from nltk.tokenize import word_tokenize"
   ]
  },
  {
   "cell_type": "code",
   "execution_count": 122,
   "metadata": {
    "collapsed": false
   },
   "outputs": [
    {
     "data": {
      "text/plain": [
       "[('computare', 'NN')]"
      ]
     },
     "execution_count": 122,
     "metadata": {},
     "output_type": "execute_result"
    }
   ],
   "source": [
    "text = word_tokenize(\"computare \")\n",
    "nltk.pos_tag(text)"
   ]
  },
  {
   "cell_type": "code",
   "execution_count": 123,
   "metadata": {
    "collapsed": true
   },
   "outputs": [],
   "source": [
    "from nltk.stem import WordNetLemmatizer"
   ]
  },
  {
   "cell_type": "code",
   "execution_count": 124,
   "metadata": {
    "collapsed": false
   },
   "outputs": [
    {
     "data": {
      "text/plain": [
       "'transennasser'"
      ]
     },
     "execution_count": 124,
     "metadata": {},
     "output_type": "execute_result"
    }
   ],
   "source": [
    "wordnet_lemmatizer = WordNetLemmatizer()\n",
    "wordnet_lemmatizer.lemmatize('transennasser')"
   ]
  },
  {
   "cell_type": "code",
   "execution_count": 125,
   "metadata": {
    "collapsed": false
   },
   "outputs": [],
   "source": [
    "form = []\n",
    "for i in train.y:\n",
    "    form.append(i[-1])"
   ]
  },
  {
   "cell_type": "code",
   "execution_count": 126,
   "metadata": {
    "collapsed": false
   },
   "outputs": [
    {
     "data": {
      "text/plain": [
       "['V', 'V', 'N', 'V', 'V', 'V', 'V', 'V', 'V', 'V']"
      ]
     },
     "execution_count": 126,
     "metadata": {},
     "output_type": "execute_result"
    }
   ],
   "source": [
    "form[:10]"
   ]
  },
  {
   "cell_type": "code",
   "execution_count": 127,
   "metadata": {
    "collapsed": true
   },
   "outputs": [],
   "source": [
    "train['form'] = form"
   ]
  },
  {
   "cell_type": "code",
   "execution_count": 128,
   "metadata": {
    "collapsed": false
   },
   "outputs": [
    {
     "data": {
      "text/html": [
       "<div>\n",
       "<table border=\"1\" class=\"dataframe\">\n",
       "  <thead>\n",
       "    <tr style=\"text-align: right;\">\n",
       "      <th></th>\n",
       "      <th>X</th>\n",
       "      <th>y</th>\n",
       "      <th>form</th>\n",
       "    </tr>\n",
       "  </thead>\n",
       "  <tbody>\n",
       "    <tr>\n",
       "      <th>1</th>\n",
       "      <td>vergognerete</td>\n",
       "      <td>vergognare+V</td>\n",
       "      <td>V</td>\n",
       "    </tr>\n",
       "    <tr>\n",
       "      <th>2</th>\n",
       "      <td>amnistiavate</td>\n",
       "      <td>amnistiare+V</td>\n",
       "      <td>V</td>\n",
       "    </tr>\n",
       "    <tr>\n",
       "      <th>3</th>\n",
       "      <td>menomazione</td>\n",
       "      <td>menomazione+N</td>\n",
       "      <td>N</td>\n",
       "    </tr>\n",
       "    <tr>\n",
       "      <th>4</th>\n",
       "      <td>sfaldavamo</td>\n",
       "      <td>sfaldare+V</td>\n",
       "      <td>V</td>\n",
       "    </tr>\n",
       "    <tr>\n",
       "      <th>5</th>\n",
       "      <td>sfodererei</td>\n",
       "      <td>sfoderare+V</td>\n",
       "      <td>V</td>\n",
       "    </tr>\n",
       "    <tr>\n",
       "      <th>6</th>\n",
       "      <td>ascondesti</td>\n",
       "      <td>ascondere+V</td>\n",
       "      <td>V</td>\n",
       "    </tr>\n",
       "    <tr>\n",
       "      <th>7</th>\n",
       "      <td>edifichereste</td>\n",
       "      <td>edificare+V</td>\n",
       "      <td>V</td>\n",
       "    </tr>\n",
       "    <tr>\n",
       "      <th>8</th>\n",
       "      <td>maschieran</td>\n",
       "      <td>maschiare+V</td>\n",
       "      <td>V</td>\n",
       "    </tr>\n",
       "    <tr>\n",
       "      <th>9</th>\n",
       "      <td>transennasser</td>\n",
       "      <td>transennare+V</td>\n",
       "      <td>V</td>\n",
       "    </tr>\n",
       "    <tr>\n",
       "      <th>10</th>\n",
       "      <td>computando</td>\n",
       "      <td>computare+V</td>\n",
       "      <td>V</td>\n",
       "    </tr>\n",
       "  </tbody>\n",
       "</table>\n",
       "</div>"
      ],
      "text/plain": [
       "                X              y form\n",
       "1    vergognerete   vergognare+V    V\n",
       "2    amnistiavate   amnistiare+V    V\n",
       "3     menomazione  menomazione+N    N\n",
       "4      sfaldavamo     sfaldare+V    V\n",
       "5      sfodererei    sfoderare+V    V\n",
       "6      ascondesti    ascondere+V    V\n",
       "7   edifichereste    edificare+V    V\n",
       "8      maschieran    maschiare+V    V\n",
       "9   transennasser  transennare+V    V\n",
       "10     computando    computare+V    V"
      ]
     },
     "execution_count": 128,
     "metadata": {},
     "output_type": "execute_result"
    }
   ],
   "source": [
    "train[:10]"
   ]
  },
  {
   "cell_type": "code",
   "execution_count": 129,
   "metadata": {
    "collapsed": false
   },
   "outputs": [
    {
     "name": "stdout",
     "output_type": "stream",
     "text": [
      "0.191958867161\n"
     ]
    }
   ],
   "source": [
    "print (train.loc[(train['form'] =='N')].size+train.loc[(train['form'] =='A')].size)/(train.loc[(train['form'] =='V')].size.astype(float)+train.loc[(train['form'] =='N')].size+train.loc[(train['form'] =='A')].size) "
   ]
  },
  {
   "cell_type": "code",
   "execution_count": 187,
   "metadata": {
    "collapsed": false
   },
   "outputs": [
    {
     "data": {
      "text/plain": [
       "593200"
      ]
     },
     "execution_count": 187,
     "metadata": {},
     "output_type": "execute_result"
    }
   ],
   "source": [
    "train.size"
   ]
  },
  {
   "cell_type": "code",
   "execution_count": 130,
   "metadata": {
    "collapsed": true
   },
   "outputs": [],
   "source": [
    "import re"
   ]
  },
  {
   "cell_type": "code",
   "execution_count": 131,
   "metadata": {
    "collapsed": false
   },
   "outputs": [],
   "source": [
    "train['word'] = train.y.map(lambda x: re.sub(\"[+,0-9, A-Z]\", \"\", x))"
   ]
  },
  {
   "cell_type": "code",
   "execution_count": 132,
   "metadata": {
    "collapsed": false
   },
   "outputs": [
    {
     "data": {
      "text/html": [
       "<div>\n",
       "<table border=\"1\" class=\"dataframe\">\n",
       "  <thead>\n",
       "    <tr style=\"text-align: right;\">\n",
       "      <th></th>\n",
       "      <th>X</th>\n",
       "      <th>y</th>\n",
       "      <th>form</th>\n",
       "      <th>word</th>\n",
       "    </tr>\n",
       "  </thead>\n",
       "  <tbody>\n",
       "    <tr>\n",
       "      <th>1</th>\n",
       "      <td>vergognerete</td>\n",
       "      <td>vergognare+V</td>\n",
       "      <td>V</td>\n",
       "      <td>vergognare</td>\n",
       "    </tr>\n",
       "    <tr>\n",
       "      <th>2</th>\n",
       "      <td>amnistiavate</td>\n",
       "      <td>amnistiare+V</td>\n",
       "      <td>V</td>\n",
       "      <td>amnistiare</td>\n",
       "    </tr>\n",
       "    <tr>\n",
       "      <th>3</th>\n",
       "      <td>menomazione</td>\n",
       "      <td>menomazione+N</td>\n",
       "      <td>N</td>\n",
       "      <td>menomazione</td>\n",
       "    </tr>\n",
       "    <tr>\n",
       "      <th>4</th>\n",
       "      <td>sfaldavamo</td>\n",
       "      <td>sfaldare+V</td>\n",
       "      <td>V</td>\n",
       "      <td>sfaldare</td>\n",
       "    </tr>\n",
       "    <tr>\n",
       "      <th>5</th>\n",
       "      <td>sfodererei</td>\n",
       "      <td>sfoderare+V</td>\n",
       "      <td>V</td>\n",
       "      <td>sfoderare</td>\n",
       "    </tr>\n",
       "  </tbody>\n",
       "</table>\n",
       "</div>"
      ],
      "text/plain": [
       "              X              y form         word\n",
       "1  vergognerete   vergognare+V    V   vergognare\n",
       "2  amnistiavate   amnistiare+V    V   amnistiare\n",
       "3   menomazione  menomazione+N    N  menomazione\n",
       "4    sfaldavamo     sfaldare+V    V     sfaldare\n",
       "5    sfodererei    sfoderare+V    V    sfoderare"
      ]
     },
     "execution_count": 132,
     "metadata": {},
     "output_type": "execute_result"
    }
   ],
   "source": [
    "train[:5]"
   ]
  },
  {
   "cell_type": "code",
   "execution_count": 133,
   "metadata": {
    "collapsed": true
   },
   "outputs": [],
   "source": [
    "train = train.drop(['y'], axis=1)"
   ]
  },
  {
   "cell_type": "code",
   "execution_count": 134,
   "metadata": {
    "collapsed": false
   },
   "outputs": [
    {
     "data": {
      "text/html": [
       "<div>\n",
       "<table border=\"1\" class=\"dataframe\">\n",
       "  <thead>\n",
       "    <tr style=\"text-align: right;\">\n",
       "      <th></th>\n",
       "      <th>X</th>\n",
       "      <th>form</th>\n",
       "      <th>word</th>\n",
       "    </tr>\n",
       "  </thead>\n",
       "  <tbody>\n",
       "    <tr>\n",
       "      <th>1</th>\n",
       "      <td>vergognerete</td>\n",
       "      <td>V</td>\n",
       "      <td>vergognare</td>\n",
       "    </tr>\n",
       "  </tbody>\n",
       "</table>\n",
       "</div>"
      ],
      "text/plain": [
       "              X form        word\n",
       "1  vergognerete    V  vergognare"
      ]
     },
     "execution_count": 134,
     "metadata": {},
     "output_type": "execute_result"
    }
   ],
   "source": [
    "train[:1]"
   ]
  },
  {
   "cell_type": "code",
   "execution_count": 163,
   "metadata": {
    "collapsed": true
   },
   "outputs": [],
   "source": [
    "w1 = 'lalasadff'\n",
    "w2 = 'lalkkk'"
   ]
  },
  {
   "cell_type": "code",
   "execution_count": 174,
   "metadata": {
    "collapsed": false
   },
   "outputs": [],
   "source": [
    "def base_and_ending(X, y):\n",
    "    base = []\n",
    "    ending = []\n",
    "    flag = True\n",
    "    if len(X) >= len(y):\n",
    "        length = len(y)\n",
    "    else:\n",
    "        length = len(X)\n",
    "    for i in range(length):\n",
    "        if X[i] == y[i] and flag==True:\n",
    "            base.append(X[i])\n",
    "        else:\n",
    "            flag=False\n",
    "            ending.append(y[i])\n",
    "    return ''.join(base), ''.join(ending)"
   ]
  },
  {
   "cell_type": "code",
   "execution_count": 175,
   "metadata": {
    "collapsed": false
   },
   "outputs": [
    {
     "data": {
      "text/plain": [
       "('lal', 'kkk')"
      ]
     },
     "execution_count": 175,
     "metadata": {},
     "output_type": "execute_result"
    }
   ],
   "source": [
    "base_and_ending(w1, w2)"
   ]
  },
  {
   "cell_type": "code",
   "execution_count": 178,
   "metadata": {
    "collapsed": false
   },
   "outputs": [
    {
     "data": {
      "text/plain": [
       "('asconde', 're')"
      ]
     },
     "execution_count": 178,
     "metadata": {},
     "output_type": "execute_result"
    }
   ],
   "source": [
    "base_and_ending('vergognerete', 'vergognare')\n",
    "base_and_ending('sfodererei', 'sfoderare')\n",
    "base_and_ending('ascondesti', 'ascondere')"
   ]
  },
  {
   "cell_type": "code",
   "execution_count": 180,
   "metadata": {
    "collapsed": false
   },
   "outputs": [],
   "source": [
    "base = []\n",
    "ending = []\n",
    "for X, y in zip(train.X, train.word):\n",
    "    b, e = base_and_ending(X, y)\n",
    "    base.append(b)\n",
    "    ending.append(e)"
   ]
  },
  {
   "cell_type": "code",
   "execution_count": 181,
   "metadata": {
    "collapsed": true
   },
   "outputs": [],
   "source": [
    "train['base'] = base\n",
    "train['ending'] = ending"
   ]
  },
  {
   "cell_type": "code",
   "execution_count": 182,
   "metadata": {
    "collapsed": false
   },
   "outputs": [
    {
     "data": {
      "text/html": [
       "<div>\n",
       "<table border=\"1\" class=\"dataframe\">\n",
       "  <thead>\n",
       "    <tr style=\"text-align: right;\">\n",
       "      <th></th>\n",
       "      <th>X</th>\n",
       "      <th>form</th>\n",
       "      <th>word</th>\n",
       "      <th>base</th>\n",
       "      <th>ending</th>\n",
       "    </tr>\n",
       "  </thead>\n",
       "  <tbody>\n",
       "    <tr>\n",
       "      <th>1</th>\n",
       "      <td>vergognerete</td>\n",
       "      <td>V</td>\n",
       "      <td>vergognare</td>\n",
       "      <td>vergogn</td>\n",
       "      <td>are</td>\n",
       "    </tr>\n",
       "    <tr>\n",
       "      <th>2</th>\n",
       "      <td>amnistiavate</td>\n",
       "      <td>V</td>\n",
       "      <td>amnistiare</td>\n",
       "      <td>amnistia</td>\n",
       "      <td>re</td>\n",
       "    </tr>\n",
       "    <tr>\n",
       "      <th>3</th>\n",
       "      <td>menomazione</td>\n",
       "      <td>N</td>\n",
       "      <td>menomazione</td>\n",
       "      <td>menomazione</td>\n",
       "      <td></td>\n",
       "    </tr>\n",
       "    <tr>\n",
       "      <th>4</th>\n",
       "      <td>sfaldavamo</td>\n",
       "      <td>V</td>\n",
       "      <td>sfaldare</td>\n",
       "      <td>sfalda</td>\n",
       "      <td>re</td>\n",
       "    </tr>\n",
       "    <tr>\n",
       "      <th>5</th>\n",
       "      <td>sfodererei</td>\n",
       "      <td>V</td>\n",
       "      <td>sfoderare</td>\n",
       "      <td>sfoder</td>\n",
       "      <td>are</td>\n",
       "    </tr>\n",
       "    <tr>\n",
       "      <th>6</th>\n",
       "      <td>ascondesti</td>\n",
       "      <td>V</td>\n",
       "      <td>ascondere</td>\n",
       "      <td>asconde</td>\n",
       "      <td>re</td>\n",
       "    </tr>\n",
       "    <tr>\n",
       "      <th>7</th>\n",
       "      <td>edifichereste</td>\n",
       "      <td>V</td>\n",
       "      <td>edificare</td>\n",
       "      <td>edific</td>\n",
       "      <td>are</td>\n",
       "    </tr>\n",
       "    <tr>\n",
       "      <th>8</th>\n",
       "      <td>maschieran</td>\n",
       "      <td>V</td>\n",
       "      <td>maschiare</td>\n",
       "      <td>maschi</td>\n",
       "      <td>are</td>\n",
       "    </tr>\n",
       "    <tr>\n",
       "      <th>9</th>\n",
       "      <td>transennasser</td>\n",
       "      <td>V</td>\n",
       "      <td>transennare</td>\n",
       "      <td>transenna</td>\n",
       "      <td>re</td>\n",
       "    </tr>\n",
       "    <tr>\n",
       "      <th>10</th>\n",
       "      <td>computando</td>\n",
       "      <td>V</td>\n",
       "      <td>computare</td>\n",
       "      <td>computa</td>\n",
       "      <td>re</td>\n",
       "    </tr>\n",
       "    <tr>\n",
       "      <th>11</th>\n",
       "      <td>accudisser</td>\n",
       "      <td>V</td>\n",
       "      <td>accudire</td>\n",
       "      <td>accudi</td>\n",
       "      <td>re</td>\n",
       "    </tr>\n",
       "    <tr>\n",
       "      <th>12</th>\n",
       "      <td>diromperanno</td>\n",
       "      <td>V</td>\n",
       "      <td>dirompere</td>\n",
       "      <td>diromper</td>\n",
       "      <td>e</td>\n",
       "    </tr>\n",
       "    <tr>\n",
       "      <th>13</th>\n",
       "      <td>intercollegai</td>\n",
       "      <td>V</td>\n",
       "      <td>intercollegare</td>\n",
       "      <td>intercollega</td>\n",
       "      <td>r</td>\n",
       "    </tr>\n",
       "    <tr>\n",
       "      <th>14</th>\n",
       "      <td>integrando</td>\n",
       "      <td>V</td>\n",
       "      <td>integrare</td>\n",
       "      <td>integra</td>\n",
       "      <td>re</td>\n",
       "    </tr>\n",
       "    <tr>\n",
       "      <th>15</th>\n",
       "      <td>sbramerebbero</td>\n",
       "      <td>V</td>\n",
       "      <td>sbramare</td>\n",
       "      <td>sbram</td>\n",
       "      <td>are</td>\n",
       "    </tr>\n",
       "    <tr>\n",
       "      <th>16</th>\n",
       "      <td>stravaccherebbero</td>\n",
       "      <td>V</td>\n",
       "      <td>stravaccare</td>\n",
       "      <td>stravacc</td>\n",
       "      <td>are</td>\n",
       "    </tr>\n",
       "    <tr>\n",
       "      <th>17</th>\n",
       "      <td>oltrepassasser</td>\n",
       "      <td>V</td>\n",
       "      <td>oltrepassare</td>\n",
       "      <td>oltrepassa</td>\n",
       "      <td>re</td>\n",
       "    </tr>\n",
       "    <tr>\n",
       "      <th>18</th>\n",
       "      <td>cauzionavan</td>\n",
       "      <td>V</td>\n",
       "      <td>cauzionare</td>\n",
       "      <td>cauziona</td>\n",
       "      <td>re</td>\n",
       "    </tr>\n",
       "    <tr>\n",
       "      <th>19</th>\n",
       "      <td>scarrozzata</td>\n",
       "      <td>V</td>\n",
       "      <td>scarrozzare</td>\n",
       "      <td>scarrozza</td>\n",
       "      <td>re</td>\n",
       "    </tr>\n",
       "    <tr>\n",
       "      <th>20</th>\n",
       "      <td>intossicassero</td>\n",
       "      <td>V</td>\n",
       "      <td>intossicare</td>\n",
       "      <td>intossica</td>\n",
       "      <td>re</td>\n",
       "    </tr>\n",
       "  </tbody>\n",
       "</table>\n",
       "</div>"
      ],
      "text/plain": [
       "                    X form            word          base ending\n",
       "1        vergognerete    V      vergognare       vergogn    are\n",
       "2        amnistiavate    V      amnistiare      amnistia     re\n",
       "3         menomazione    N     menomazione   menomazione       \n",
       "4          sfaldavamo    V        sfaldare        sfalda     re\n",
       "5          sfodererei    V       sfoderare        sfoder    are\n",
       "6          ascondesti    V       ascondere       asconde     re\n",
       "7       edifichereste    V       edificare        edific    are\n",
       "8          maschieran    V       maschiare        maschi    are\n",
       "9       transennasser    V     transennare     transenna     re\n",
       "10         computando    V       computare       computa     re\n",
       "11         accudisser    V        accudire        accudi     re\n",
       "12       diromperanno    V       dirompere      diromper      e\n",
       "13      intercollegai    V  intercollegare  intercollega      r\n",
       "14         integrando    V       integrare       integra     re\n",
       "15      sbramerebbero    V        sbramare         sbram    are\n",
       "16  stravaccherebbero    V     stravaccare      stravacc    are\n",
       "17     oltrepassasser    V    oltrepassare    oltrepassa     re\n",
       "18        cauzionavan    V      cauzionare      cauziona     re\n",
       "19        scarrozzata    V     scarrozzare     scarrozza     re\n",
       "20     intossicassero    V     intossicare     intossica     re"
      ]
     },
     "execution_count": 182,
     "metadata": {},
     "output_type": "execute_result"
    }
   ],
   "source": [
    "train[:20]"
   ]
  },
  {
   "cell_type": "code",
   "execution_count": 355,
   "metadata": {
    "collapsed": false,
    "scrolled": true
   },
   "outputs": [
    {
     "data": {
      "text/plain": [
       "re             44200\n",
       "are            24023\n",
       "               17800\n",
       "e               8047\n",
       "o               6792\n",
       "a               4353\n",
       "r               3357\n",
       "ar              3098\n",
       "iare            1765\n",
       "ere             1191\n",
       "rre              756\n",
       "ire              756\n",
       "er               472\n",
       "ir               378\n",
       "i                287\n",
       "ge               124\n",
       "ore              122\n",
       "nde               73\n",
       "nd                71\n",
       "rr                60\n",
       "nire              60\n",
       "nere              55\n",
       "gge               51\n",
       "de                49\n",
       "uocere            47\n",
       "lere              40\n",
       "ger               31\n",
       "nder              29\n",
       "tte               27\n",
       "gere              24\n",
       "               ...  \n",
       "ole                1\n",
       "a-ordinanza        1\n",
       "ote                1\n",
       "desistere          1\n",
       "ter                1\n",
       "es                 1\n",
       "onde               1\n",
       "o-radar            1\n",
       "a-partito          1\n",
       "ler                1\n",
       "x                  1\n",
       "o-stato            1\n",
       "e-quadro           1\n",
       "a-gol              1\n",
       "ompere             1\n",
       "buono              1\n",
       "esse               1\n",
       "a-estate           1\n",
       "a-paese            1\n",
       "o-leninismo        1\n",
       "opattuglia         1\n",
       "ve                 1\n",
       "oviro              1\n",
       "omorta             1\n",
       "a-italia           1\n",
       "oclan              1\n",
       "adonna             1\n",
       "desister           1\n",
       "olista             1\n",
       "a-paga             1\n",
       "Name: ending, dtype: int64"
      ]
     },
     "execution_count": 355,
     "metadata": {},
     "output_type": "execute_result"
    }
   ],
   "source": [
    "train.ending.value_counts()[:]"
   ]
  },
  {
   "cell_type": "code",
   "execution_count": 188,
   "metadata": {
    "collapsed": false
   },
   "outputs": [
    {
     "data": {
      "text/plain": [
       "V    95866\n",
       "A    13166\n",
       "N     9608\n",
       "Name: form, dtype: int64"
      ]
     },
     "execution_count": 188,
     "metadata": {},
     "output_type": "execute_result"
    }
   ],
   "source": [
    "train.form.value_counts()"
   ]
  },
  {
   "cell_type": "markdown",
   "metadata": {},
   "source": [
    "Предсказав re можно легко из исходного слова получить нужное - достаточно просто идти с конца и достигнув первой буквы а, добавить re. Исследуем данные дальше, чтобы посмотреть, что ещё можно выкинуть."
   ]
  },
  {
   "cell_type": "code",
   "execution_count": 194,
   "metadata": {
    "collapsed": false
   },
   "outputs": [
    {
     "data": {
      "text/html": [
       "<div>\n",
       "<table border=\"1\" class=\"dataframe\">\n",
       "  <thead>\n",
       "    <tr style=\"text-align: right;\">\n",
       "      <th></th>\n",
       "      <th>X</th>\n",
       "      <th>form</th>\n",
       "      <th>word</th>\n",
       "      <th>base</th>\n",
       "      <th>ending</th>\n",
       "    </tr>\n",
       "  </thead>\n",
       "  <tbody>\n",
       "    <tr>\n",
       "      <th>2</th>\n",
       "      <td>amnistiavate</td>\n",
       "      <td>V</td>\n",
       "      <td>amnistiare</td>\n",
       "      <td>amnistia</td>\n",
       "      <td>re</td>\n",
       "    </tr>\n",
       "    <tr>\n",
       "      <th>4</th>\n",
       "      <td>sfaldavamo</td>\n",
       "      <td>V</td>\n",
       "      <td>sfaldare</td>\n",
       "      <td>sfalda</td>\n",
       "      <td>re</td>\n",
       "    </tr>\n",
       "    <tr>\n",
       "      <th>6</th>\n",
       "      <td>ascondesti</td>\n",
       "      <td>V</td>\n",
       "      <td>ascondere</td>\n",
       "      <td>asconde</td>\n",
       "      <td>re</td>\n",
       "    </tr>\n",
       "    <tr>\n",
       "      <th>9</th>\n",
       "      <td>transennasser</td>\n",
       "      <td>V</td>\n",
       "      <td>transennare</td>\n",
       "      <td>transenna</td>\n",
       "      <td>re</td>\n",
       "    </tr>\n",
       "    <tr>\n",
       "      <th>10</th>\n",
       "      <td>computando</td>\n",
       "      <td>V</td>\n",
       "      <td>computare</td>\n",
       "      <td>computa</td>\n",
       "      <td>re</td>\n",
       "    </tr>\n",
       "    <tr>\n",
       "      <th>11</th>\n",
       "      <td>accudisser</td>\n",
       "      <td>V</td>\n",
       "      <td>accudire</td>\n",
       "      <td>accudi</td>\n",
       "      <td>re</td>\n",
       "    </tr>\n",
       "    <tr>\n",
       "      <th>14</th>\n",
       "      <td>integrando</td>\n",
       "      <td>V</td>\n",
       "      <td>integrare</td>\n",
       "      <td>integra</td>\n",
       "      <td>re</td>\n",
       "    </tr>\n",
       "    <tr>\n",
       "      <th>17</th>\n",
       "      <td>oltrepassasser</td>\n",
       "      <td>V</td>\n",
       "      <td>oltrepassare</td>\n",
       "      <td>oltrepassa</td>\n",
       "      <td>re</td>\n",
       "    </tr>\n",
       "    <tr>\n",
       "      <th>18</th>\n",
       "      <td>cauzionavan</td>\n",
       "      <td>V</td>\n",
       "      <td>cauzionare</td>\n",
       "      <td>cauziona</td>\n",
       "      <td>re</td>\n",
       "    </tr>\n",
       "    <tr>\n",
       "      <th>19</th>\n",
       "      <td>scarrozzata</td>\n",
       "      <td>V</td>\n",
       "      <td>scarrozzare</td>\n",
       "      <td>scarrozza</td>\n",
       "      <td>re</td>\n",
       "    </tr>\n",
       "    <tr>\n",
       "      <th>20</th>\n",
       "      <td>intossicassero</td>\n",
       "      <td>V</td>\n",
       "      <td>intossicare</td>\n",
       "      <td>intossica</td>\n",
       "      <td>re</td>\n",
       "    </tr>\n",
       "    <tr>\n",
       "      <th>23</th>\n",
       "      <td>impiastrate</td>\n",
       "      <td>V</td>\n",
       "      <td>impiastrare</td>\n",
       "      <td>impiastra</td>\n",
       "      <td>re</td>\n",
       "    </tr>\n",
       "    <tr>\n",
       "      <th>25</th>\n",
       "      <td>pizzicottassi</td>\n",
       "      <td>V</td>\n",
       "      <td>pizzicottare</td>\n",
       "      <td>pizzicotta</td>\n",
       "      <td>re</td>\n",
       "    </tr>\n",
       "    <tr>\n",
       "      <th>26</th>\n",
       "      <td>spoliticizzasti</td>\n",
       "      <td>V</td>\n",
       "      <td>spoliticizzare</td>\n",
       "      <td>spoliticizza</td>\n",
       "      <td>re</td>\n",
       "    </tr>\n",
       "    <tr>\n",
       "      <th>30</th>\n",
       "      <td>lavoricchiassi</td>\n",
       "      <td>V</td>\n",
       "      <td>lavoricchiare</td>\n",
       "      <td>lavoricchia</td>\n",
       "      <td>re</td>\n",
       "    </tr>\n",
       "    <tr>\n",
       "      <th>31</th>\n",
       "      <td>estorcesse</td>\n",
       "      <td>V</td>\n",
       "      <td>estorcere</td>\n",
       "      <td>estorce</td>\n",
       "      <td>re</td>\n",
       "    </tr>\n",
       "    <tr>\n",
       "      <th>33</th>\n",
       "      <td>uguagliassero</td>\n",
       "      <td>V</td>\n",
       "      <td>uguagliare</td>\n",
       "      <td>uguaglia</td>\n",
       "      <td>re</td>\n",
       "    </tr>\n",
       "    <tr>\n",
       "      <th>34</th>\n",
       "      <td>smagnetizzava</td>\n",
       "      <td>V</td>\n",
       "      <td>smagnetizzare</td>\n",
       "      <td>smagnetizza</td>\n",
       "      <td>re</td>\n",
       "    </tr>\n",
       "    <tr>\n",
       "      <th>36</th>\n",
       "      <td>amoreggiavate</td>\n",
       "      <td>V</td>\n",
       "      <td>amoreggiare</td>\n",
       "      <td>amoreggia</td>\n",
       "      <td>re</td>\n",
       "    </tr>\n",
       "    <tr>\n",
       "      <th>45</th>\n",
       "      <td>gonfiando</td>\n",
       "      <td>V</td>\n",
       "      <td>gonfiare</td>\n",
       "      <td>gonfia</td>\n",
       "      <td>re</td>\n",
       "    </tr>\n",
       "    <tr>\n",
       "      <th>48</th>\n",
       "      <td>casolammo</td>\n",
       "      <td>V</td>\n",
       "      <td>casolare</td>\n",
       "      <td>casola</td>\n",
       "      <td>re</td>\n",
       "    </tr>\n",
       "    <tr>\n",
       "      <th>49</th>\n",
       "      <td>osanti</td>\n",
       "      <td>A</td>\n",
       "      <td>osare</td>\n",
       "      <td>osa</td>\n",
       "      <td>re</td>\n",
       "    </tr>\n",
       "    <tr>\n",
       "      <th>51</th>\n",
       "      <td>rivaccinavano</td>\n",
       "      <td>V</td>\n",
       "      <td>rivaccinare</td>\n",
       "      <td>rivaccina</td>\n",
       "      <td>re</td>\n",
       "    </tr>\n",
       "    <tr>\n",
       "      <th>52</th>\n",
       "      <td>borrasser</td>\n",
       "      <td>V</td>\n",
       "      <td>borrare</td>\n",
       "      <td>borra</td>\n",
       "      <td>re</td>\n",
       "    </tr>\n",
       "    <tr>\n",
       "      <th>53</th>\n",
       "      <td>disfacevo</td>\n",
       "      <td>V</td>\n",
       "      <td>disfare</td>\n",
       "      <td>disfa</td>\n",
       "      <td>re</td>\n",
       "    </tr>\n",
       "    <tr>\n",
       "      <th>55</th>\n",
       "      <td>rieducate</td>\n",
       "      <td>V</td>\n",
       "      <td>rieducare</td>\n",
       "      <td>rieduca</td>\n",
       "      <td>re</td>\n",
       "    </tr>\n",
       "    <tr>\n",
       "      <th>56</th>\n",
       "      <td>rivaleggiante</td>\n",
       "      <td>A</td>\n",
       "      <td>rivaleggiare</td>\n",
       "      <td>rivaleggia</td>\n",
       "      <td>re</td>\n",
       "    </tr>\n",
       "    <tr>\n",
       "      <th>59</th>\n",
       "      <td>raffreddavan</td>\n",
       "      <td>V</td>\n",
       "      <td>raffreddare</td>\n",
       "      <td>raffredda</td>\n",
       "      <td>re</td>\n",
       "    </tr>\n",
       "    <tr>\n",
       "      <th>61</th>\n",
       "      <td>incartapecoriamo</td>\n",
       "      <td>V</td>\n",
       "      <td>incartapecorire</td>\n",
       "      <td>incartapecori</td>\n",
       "      <td>re</td>\n",
       "    </tr>\n",
       "    <tr>\n",
       "      <th>62</th>\n",
       "      <td>cospiranti</td>\n",
       "      <td>A</td>\n",
       "      <td>cospirare</td>\n",
       "      <td>cospira</td>\n",
       "      <td>re</td>\n",
       "    </tr>\n",
       "    <tr>\n",
       "      <th>...</th>\n",
       "      <td>...</td>\n",
       "      <td>...</td>\n",
       "      <td>...</td>\n",
       "      <td>...</td>\n",
       "      <td>...</td>\n",
       "    </tr>\n",
       "    <tr>\n",
       "      <th>118558</th>\n",
       "      <td>prescindessi</td>\n",
       "      <td>V</td>\n",
       "      <td>prescindere</td>\n",
       "      <td>prescinde</td>\n",
       "      <td>re</td>\n",
       "    </tr>\n",
       "    <tr>\n",
       "      <th>118560</th>\n",
       "      <td>illeggiadrissero</td>\n",
       "      <td>V</td>\n",
       "      <td>illeggiadrire</td>\n",
       "      <td>illeggiadri</td>\n",
       "      <td>re</td>\n",
       "    </tr>\n",
       "    <tr>\n",
       "      <th>118561</th>\n",
       "      <td>divezzato</td>\n",
       "      <td>V</td>\n",
       "      <td>divezzare</td>\n",
       "      <td>divezza</td>\n",
       "      <td>re</td>\n",
       "    </tr>\n",
       "    <tr>\n",
       "      <th>118563</th>\n",
       "      <td>scantinassero</td>\n",
       "      <td>V</td>\n",
       "      <td>scantinare</td>\n",
       "      <td>scantina</td>\n",
       "      <td>re</td>\n",
       "    </tr>\n",
       "    <tr>\n",
       "      <th>118570</th>\n",
       "      <td>rifilanti</td>\n",
       "      <td>A</td>\n",
       "      <td>rifilare</td>\n",
       "      <td>rifila</td>\n",
       "      <td>re</td>\n",
       "    </tr>\n",
       "    <tr>\n",
       "      <th>118578</th>\n",
       "      <td>esitavamo</td>\n",
       "      <td>V</td>\n",
       "      <td>esitare</td>\n",
       "      <td>esita</td>\n",
       "      <td>re</td>\n",
       "    </tr>\n",
       "    <tr>\n",
       "      <th>118584</th>\n",
       "      <td>mozzassimo</td>\n",
       "      <td>V</td>\n",
       "      <td>mozzare</td>\n",
       "      <td>mozza</td>\n",
       "      <td>re</td>\n",
       "    </tr>\n",
       "    <tr>\n",
       "      <th>118587</th>\n",
       "      <td>scartabellavano</td>\n",
       "      <td>V</td>\n",
       "      <td>scartabellare</td>\n",
       "      <td>scartabella</td>\n",
       "      <td>re</td>\n",
       "    </tr>\n",
       "    <tr>\n",
       "      <th>118592</th>\n",
       "      <td>editammo</td>\n",
       "      <td>V</td>\n",
       "      <td>editare</td>\n",
       "      <td>edita</td>\n",
       "      <td>re</td>\n",
       "    </tr>\n",
       "    <tr>\n",
       "      <th>118594</th>\n",
       "      <td>carburammo</td>\n",
       "      <td>V</td>\n",
       "      <td>carburare</td>\n",
       "      <td>carbura</td>\n",
       "      <td>re</td>\n",
       "    </tr>\n",
       "    <tr>\n",
       "      <th>118600</th>\n",
       "      <td>allevavano</td>\n",
       "      <td>V</td>\n",
       "      <td>allevare</td>\n",
       "      <td>alleva</td>\n",
       "      <td>re</td>\n",
       "    </tr>\n",
       "    <tr>\n",
       "      <th>118601</th>\n",
       "      <td>bestemmiavamo</td>\n",
       "      <td>V</td>\n",
       "      <td>bestemmiare</td>\n",
       "      <td>bestemmia</td>\n",
       "      <td>re</td>\n",
       "    </tr>\n",
       "    <tr>\n",
       "      <th>118602</th>\n",
       "      <td>vistata</td>\n",
       "      <td>V</td>\n",
       "      <td>vistare</td>\n",
       "      <td>vista</td>\n",
       "      <td>re</td>\n",
       "    </tr>\n",
       "    <tr>\n",
       "      <th>118603</th>\n",
       "      <td>laicizzante</td>\n",
       "      <td>A</td>\n",
       "      <td>laicizzare</td>\n",
       "      <td>laicizza</td>\n",
       "      <td>re</td>\n",
       "    </tr>\n",
       "    <tr>\n",
       "      <th>118607</th>\n",
       "      <td>sminuzzate</td>\n",
       "      <td>V</td>\n",
       "      <td>sminuzzare</td>\n",
       "      <td>sminuzza</td>\n",
       "      <td>re</td>\n",
       "    </tr>\n",
       "    <tr>\n",
       "      <th>118615</th>\n",
       "      <td>cristianizzata</td>\n",
       "      <td>V</td>\n",
       "      <td>cristianizzare</td>\n",
       "      <td>cristianizza</td>\n",
       "      <td>re</td>\n",
       "    </tr>\n",
       "    <tr>\n",
       "      <th>118617</th>\n",
       "      <td>graffiavan</td>\n",
       "      <td>V</td>\n",
       "      <td>graffiare</td>\n",
       "      <td>graffia</td>\n",
       "      <td>re</td>\n",
       "    </tr>\n",
       "    <tr>\n",
       "      <th>118623</th>\n",
       "      <td>spalmano</td>\n",
       "      <td>V</td>\n",
       "      <td>spalmare</td>\n",
       "      <td>spalma</td>\n",
       "      <td>re</td>\n",
       "    </tr>\n",
       "    <tr>\n",
       "      <th>118624</th>\n",
       "      <td>rinfacciavo</td>\n",
       "      <td>V</td>\n",
       "      <td>rinfacciare</td>\n",
       "      <td>rinfaccia</td>\n",
       "      <td>re</td>\n",
       "    </tr>\n",
       "    <tr>\n",
       "      <th>118625</th>\n",
       "      <td>ticchettammo</td>\n",
       "      <td>V</td>\n",
       "      <td>ticchettare</td>\n",
       "      <td>ticchetta</td>\n",
       "      <td>re</td>\n",
       "    </tr>\n",
       "    <tr>\n",
       "      <th>118626</th>\n",
       "      <td>prevalessero</td>\n",
       "      <td>V</td>\n",
       "      <td>prevalere</td>\n",
       "      <td>prevale</td>\n",
       "      <td>re</td>\n",
       "    </tr>\n",
       "    <tr>\n",
       "      <th>118627</th>\n",
       "      <td>inoltrate</td>\n",
       "      <td>V</td>\n",
       "      <td>inoltrare</td>\n",
       "      <td>inoltra</td>\n",
       "      <td>re</td>\n",
       "    </tr>\n",
       "    <tr>\n",
       "      <th>118629</th>\n",
       "      <td>rincasassero</td>\n",
       "      <td>V</td>\n",
       "      <td>rincasare</td>\n",
       "      <td>rincasa</td>\n",
       "      <td>re</td>\n",
       "    </tr>\n",
       "    <tr>\n",
       "      <th>118630</th>\n",
       "      <td>ospitasser</td>\n",
       "      <td>V</td>\n",
       "      <td>ospitare</td>\n",
       "      <td>ospita</td>\n",
       "      <td>re</td>\n",
       "    </tr>\n",
       "    <tr>\n",
       "      <th>118631</th>\n",
       "      <td>disgustavo</td>\n",
       "      <td>V</td>\n",
       "      <td>disgustare</td>\n",
       "      <td>disgusta</td>\n",
       "      <td>re</td>\n",
       "    </tr>\n",
       "    <tr>\n",
       "      <th>118632</th>\n",
       "      <td>spanciate</td>\n",
       "      <td>V</td>\n",
       "      <td>spanciare</td>\n",
       "      <td>spancia</td>\n",
       "      <td>re</td>\n",
       "    </tr>\n",
       "    <tr>\n",
       "      <th>118635</th>\n",
       "      <td>sopisser</td>\n",
       "      <td>V</td>\n",
       "      <td>sopire</td>\n",
       "      <td>sopi</td>\n",
       "      <td>re</td>\n",
       "    </tr>\n",
       "    <tr>\n",
       "      <th>118637</th>\n",
       "      <td>cogestiste</td>\n",
       "      <td>V</td>\n",
       "      <td>cogestire</td>\n",
       "      <td>cogesti</td>\n",
       "      <td>re</td>\n",
       "    </tr>\n",
       "    <tr>\n",
       "      <th>118639</th>\n",
       "      <td>gorgogliassimo</td>\n",
       "      <td>V</td>\n",
       "      <td>gorgogliare</td>\n",
       "      <td>gorgoglia</td>\n",
       "      <td>re</td>\n",
       "    </tr>\n",
       "    <tr>\n",
       "      <th>118640</th>\n",
       "      <td>desecretaste</td>\n",
       "      <td>V</td>\n",
       "      <td>desecretare</td>\n",
       "      <td>desecreta</td>\n",
       "      <td>re</td>\n",
       "    </tr>\n",
       "  </tbody>\n",
       "</table>\n",
       "<p>44200 rows × 5 columns</p>\n",
       "</div>"
      ],
      "text/plain": [
       "                       X form             word           base ending\n",
       "2           amnistiavate    V       amnistiare       amnistia     re\n",
       "4             sfaldavamo    V         sfaldare         sfalda     re\n",
       "6             ascondesti    V        ascondere        asconde     re\n",
       "9          transennasser    V      transennare      transenna     re\n",
       "10            computando    V        computare        computa     re\n",
       "11            accudisser    V         accudire         accudi     re\n",
       "14            integrando    V        integrare        integra     re\n",
       "17        oltrepassasser    V     oltrepassare     oltrepassa     re\n",
       "18           cauzionavan    V       cauzionare       cauziona     re\n",
       "19           scarrozzata    V      scarrozzare      scarrozza     re\n",
       "20        intossicassero    V      intossicare      intossica     re\n",
       "23           impiastrate    V      impiastrare      impiastra     re\n",
       "25         pizzicottassi    V     pizzicottare     pizzicotta     re\n",
       "26       spoliticizzasti    V   spoliticizzare   spoliticizza     re\n",
       "30        lavoricchiassi    V    lavoricchiare    lavoricchia     re\n",
       "31            estorcesse    V        estorcere        estorce     re\n",
       "33         uguagliassero    V       uguagliare       uguaglia     re\n",
       "34         smagnetizzava    V    smagnetizzare    smagnetizza     re\n",
       "36         amoreggiavate    V      amoreggiare      amoreggia     re\n",
       "45             gonfiando    V         gonfiare         gonfia     re\n",
       "48             casolammo    V         casolare         casola     re\n",
       "49                osanti    A            osare            osa     re\n",
       "51         rivaccinavano    V      rivaccinare      rivaccina     re\n",
       "52             borrasser    V          borrare          borra     re\n",
       "53             disfacevo    V          disfare          disfa     re\n",
       "55             rieducate    V        rieducare        rieduca     re\n",
       "56         rivaleggiante    A     rivaleggiare     rivaleggia     re\n",
       "59          raffreddavan    V      raffreddare      raffredda     re\n",
       "61      incartapecoriamo    V  incartapecorire  incartapecori     re\n",
       "62            cospiranti    A        cospirare        cospira     re\n",
       "...                  ...  ...              ...            ...    ...\n",
       "118558      prescindessi    V      prescindere      prescinde     re\n",
       "118560  illeggiadrissero    V    illeggiadrire    illeggiadri     re\n",
       "118561         divezzato    V        divezzare        divezza     re\n",
       "118563     scantinassero    V       scantinare       scantina     re\n",
       "118570         rifilanti    A         rifilare         rifila     re\n",
       "118578         esitavamo    V          esitare          esita     re\n",
       "118584        mozzassimo    V          mozzare          mozza     re\n",
       "118587   scartabellavano    V    scartabellare    scartabella     re\n",
       "118592          editammo    V          editare          edita     re\n",
       "118594        carburammo    V        carburare        carbura     re\n",
       "118600        allevavano    V         allevare         alleva     re\n",
       "118601     bestemmiavamo    V      bestemmiare      bestemmia     re\n",
       "118602           vistata    V          vistare          vista     re\n",
       "118603       laicizzante    A       laicizzare       laicizza     re\n",
       "118607        sminuzzate    V       sminuzzare       sminuzza     re\n",
       "118615    cristianizzata    V   cristianizzare   cristianizza     re\n",
       "118617        graffiavan    V        graffiare        graffia     re\n",
       "118623          spalmano    V         spalmare         spalma     re\n",
       "118624       rinfacciavo    V      rinfacciare      rinfaccia     re\n",
       "118625      ticchettammo    V      ticchettare      ticchetta     re\n",
       "118626      prevalessero    V        prevalere        prevale     re\n",
       "118627         inoltrate    V        inoltrare        inoltra     re\n",
       "118629      rincasassero    V        rincasare        rincasa     re\n",
       "118630        ospitasser    V         ospitare         ospita     re\n",
       "118631        disgustavo    V       disgustare       disgusta     re\n",
       "118632         spanciate    V        spanciare        spancia     re\n",
       "118635          sopisser    V           sopire           sopi     re\n",
       "118637        cogestiste    V        cogestire        cogesti     re\n",
       "118639    gorgogliassimo    V      gorgogliare      gorgoglia     re\n",
       "118640      desecretaste    V      desecretare      desecreta     re\n",
       "\n",
       "[44200 rows x 5 columns]"
      ]
     },
     "execution_count": 194,
     "metadata": {},
     "output_type": "execute_result"
    }
   ],
   "source": [
    "train.loc[(train['ending']=='re')]"
   ]
  },
  {
   "cell_type": "code",
   "execution_count": 196,
   "metadata": {
    "collapsed": false
   },
   "outputs": [
    {
     "data": {
      "text/plain": [
       "(26226, 118640)"
      ]
     },
     "execution_count": 196,
     "metadata": {},
     "output_type": "execute_result"
    }
   ],
   "source": [
    "train.base.unique().size, train.X.unique().size"
   ]
  },
  {
   "cell_type": "code",
   "execution_count": 216,
   "metadata": {
    "collapsed": false
   },
   "outputs": [],
   "source": [
    "train = train.drop(['word', '1'], axis=1)"
   ]
  },
  {
   "cell_type": "code",
   "execution_count": 217,
   "metadata": {
    "collapsed": false
   },
   "outputs": [
    {
     "data": {
      "text/html": [
       "<div>\n",
       "<table border=\"1\" class=\"dataframe\">\n",
       "  <thead>\n",
       "    <tr style=\"text-align: right;\">\n",
       "      <th></th>\n",
       "      <th>X</th>\n",
       "      <th>form</th>\n",
       "      <th>base</th>\n",
       "      <th>ending</th>\n",
       "    </tr>\n",
       "  </thead>\n",
       "  <tbody>\n",
       "    <tr>\n",
       "      <th>1</th>\n",
       "      <td>vergognerete</td>\n",
       "      <td>V</td>\n",
       "      <td>vergogn</td>\n",
       "      <td>are</td>\n",
       "    </tr>\n",
       "    <tr>\n",
       "      <th>2</th>\n",
       "      <td>amnistiavate</td>\n",
       "      <td>V</td>\n",
       "      <td>amnistia</td>\n",
       "      <td>re</td>\n",
       "    </tr>\n",
       "    <tr>\n",
       "      <th>3</th>\n",
       "      <td>menomazione</td>\n",
       "      <td>N</td>\n",
       "      <td>menomazione</td>\n",
       "      <td></td>\n",
       "    </tr>\n",
       "  </tbody>\n",
       "</table>\n",
       "</div>"
      ],
      "text/plain": [
       "              X form         base ending\n",
       "1  vergognerete    V      vergogn    are\n",
       "2  amnistiavate    V     amnistia     re\n",
       "3   menomazione    N  menomazione       "
      ]
     },
     "execution_count": 217,
     "metadata": {},
     "output_type": "execute_result"
    }
   ],
   "source": [
    "train[:3]"
   ]
  },
  {
   "cell_type": "code",
   "execution_count": null,
   "metadata": {
    "collapsed": true
   },
   "outputs": [],
   "source": []
  },
  {
   "cell_type": "code",
   "execution_count": null,
   "metadata": {
    "collapsed": true
   },
   "outputs": [],
   "source": []
  },
  {
   "cell_type": "code",
   "execution_count": 236,
   "metadata": {
    "collapsed": false
   },
   "outputs": [],
   "source": [
    "end_length = []\n",
    "for X, base in zip(train.X, train.base):\n",
    "    end_length.append(len(X.replace(base,\"\")))"
   ]
  },
  {
   "cell_type": "code",
   "execution_count": 237,
   "metadata": {
    "collapsed": false
   },
   "outputs": [],
   "source": [
    "train['end_l'] = end_length"
   ]
  },
  {
   "cell_type": "code",
   "execution_count": 238,
   "metadata": {
    "collapsed": false
   },
   "outputs": [
    {
     "data": {
      "text/html": [
       "<div>\n",
       "<table border=\"1\" class=\"dataframe\">\n",
       "  <thead>\n",
       "    <tr style=\"text-align: right;\">\n",
       "      <th></th>\n",
       "      <th>X</th>\n",
       "      <th>form</th>\n",
       "      <th>base</th>\n",
       "      <th>ending</th>\n",
       "      <th>end_l</th>\n",
       "    </tr>\n",
       "  </thead>\n",
       "  <tbody>\n",
       "    <tr>\n",
       "      <th>1</th>\n",
       "      <td>vergognerete</td>\n",
       "      <td>V</td>\n",
       "      <td>vergogn</td>\n",
       "      <td>are</td>\n",
       "      <td>5</td>\n",
       "    </tr>\n",
       "    <tr>\n",
       "      <th>2</th>\n",
       "      <td>amnistiavate</td>\n",
       "      <td>V</td>\n",
       "      <td>amnistia</td>\n",
       "      <td>re</td>\n",
       "      <td>4</td>\n",
       "    </tr>\n",
       "    <tr>\n",
       "      <th>3</th>\n",
       "      <td>menomazione</td>\n",
       "      <td>N</td>\n",
       "      <td>menomazione</td>\n",
       "      <td></td>\n",
       "      <td>0</td>\n",
       "    </tr>\n",
       "    <tr>\n",
       "      <th>4</th>\n",
       "      <td>sfaldavamo</td>\n",
       "      <td>V</td>\n",
       "      <td>sfalda</td>\n",
       "      <td>re</td>\n",
       "      <td>4</td>\n",
       "    </tr>\n",
       "    <tr>\n",
       "      <th>5</th>\n",
       "      <td>sfodererei</td>\n",
       "      <td>V</td>\n",
       "      <td>sfoder</td>\n",
       "      <td>are</td>\n",
       "      <td>4</td>\n",
       "    </tr>\n",
       "    <tr>\n",
       "      <th>6</th>\n",
       "      <td>ascondesti</td>\n",
       "      <td>V</td>\n",
       "      <td>asconde</td>\n",
       "      <td>re</td>\n",
       "      <td>3</td>\n",
       "    </tr>\n",
       "    <tr>\n",
       "      <th>7</th>\n",
       "      <td>edifichereste</td>\n",
       "      <td>V</td>\n",
       "      <td>edific</td>\n",
       "      <td>are</td>\n",
       "      <td>7</td>\n",
       "    </tr>\n",
       "    <tr>\n",
       "      <th>8</th>\n",
       "      <td>maschieran</td>\n",
       "      <td>V</td>\n",
       "      <td>maschi</td>\n",
       "      <td>are</td>\n",
       "      <td>4</td>\n",
       "    </tr>\n",
       "    <tr>\n",
       "      <th>9</th>\n",
       "      <td>transennasser</td>\n",
       "      <td>V</td>\n",
       "      <td>transenna</td>\n",
       "      <td>re</td>\n",
       "      <td>4</td>\n",
       "    </tr>\n",
       "    <tr>\n",
       "      <th>10</th>\n",
       "      <td>computando</td>\n",
       "      <td>V</td>\n",
       "      <td>computa</td>\n",
       "      <td>re</td>\n",
       "      <td>3</td>\n",
       "    </tr>\n",
       "  </tbody>\n",
       "</table>\n",
       "</div>"
      ],
      "text/plain": [
       "                X form         base ending  end_l\n",
       "1    vergognerete    V      vergogn    are      5\n",
       "2    amnistiavate    V     amnistia     re      4\n",
       "3     menomazione    N  menomazione             0\n",
       "4      sfaldavamo    V       sfalda     re      4\n",
       "5      sfodererei    V       sfoder    are      4\n",
       "6      ascondesti    V      asconde     re      3\n",
       "7   edifichereste    V       edific    are      7\n",
       "8      maschieran    V       maschi    are      4\n",
       "9   transennasser    V    transenna     re      4\n",
       "10     computando    V      computa     re      3"
      ]
     },
     "execution_count": 238,
     "metadata": {},
     "output_type": "execute_result"
    }
   ],
   "source": [
    "train[:10]"
   ]
  },
  {
   "cell_type": "code",
   "execution_count": 239,
   "metadata": {
    "collapsed": true
   },
   "outputs": [],
   "source": [
    "base = train['base']\n",
    "X = train['X']"
   ]
  },
  {
   "cell_type": "code",
   "execution_count": 241,
   "metadata": {
    "collapsed": false
   },
   "outputs": [],
   "source": [
    "train = train.drop(['base'], axis=1)"
   ]
  },
  {
   "cell_type": "code",
   "execution_count": 243,
   "metadata": {
    "collapsed": false
   },
   "outputs": [
    {
     "data": {
      "text/html": [
       "<div>\n",
       "<table border=\"1\" class=\"dataframe\">\n",
       "  <thead>\n",
       "    <tr style=\"text-align: right;\">\n",
       "      <th></th>\n",
       "      <th>X</th>\n",
       "      <th>form</th>\n",
       "      <th>ending</th>\n",
       "      <th>end_l</th>\n",
       "    </tr>\n",
       "  </thead>\n",
       "  <tbody>\n",
       "    <tr>\n",
       "      <th>1</th>\n",
       "      <td>vergognerete</td>\n",
       "      <td>V</td>\n",
       "      <td>are</td>\n",
       "      <td>5</td>\n",
       "    </tr>\n",
       "    <tr>\n",
       "      <th>2</th>\n",
       "      <td>amnistiavate</td>\n",
       "      <td>V</td>\n",
       "      <td>re</td>\n",
       "      <td>4</td>\n",
       "    </tr>\n",
       "  </tbody>\n",
       "</table>\n",
       "</div>"
      ],
      "text/plain": [
       "              X form ending  end_l\n",
       "1  vergognerete    V    are      5\n",
       "2  amnistiavate    V     re      4"
      ]
     },
     "execution_count": 243,
     "metadata": {},
     "output_type": "execute_result"
    }
   ],
   "source": [
    "train[:2]"
   ]
  },
  {
   "cell_type": "code",
   "execution_count": 245,
   "metadata": {
    "collapsed": false
   },
   "outputs": [
    {
     "data": {
      "text/plain": [
       "array([ 5,  4,  0,  3,  7,  1,  8,  9,  2,  6, 10, 11, 12], dtype=int64)"
      ]
     },
     "execution_count": 245,
     "metadata": {},
     "output_type": "execute_result"
    }
   ],
   "source": [
    "train.end_l.unique()"
   ]
  },
  {
   "cell_type": "code",
   "execution_count": 246,
   "metadata": {
    "collapsed": false
   },
   "outputs": [
    {
     "data": {
      "text/plain": [
       "array(['V', 'N', 'A'], dtype=object)"
      ]
     },
     "execution_count": 246,
     "metadata": {},
     "output_type": "execute_result"
    }
   ],
   "source": [
    "train.form.unique()"
   ]
  },
  {
   "cell_type": "code",
   "execution_count": 255,
   "metadata": {
    "collapsed": true
   },
   "outputs": [],
   "source": [
    "end_l_fact = pd.factorize(train.end_l)[0]\n",
    "ending_fact = pd.factorize(train.end_l)[0]"
   ]
  },
  {
   "cell_type": "code",
   "execution_count": 256,
   "metadata": {
    "collapsed": false
   },
   "outputs": [
    {
     "data": {
      "text/plain": [
       "array([0, 1, 2, 1, 1, 3, 4, 1, 1, 3], dtype=int64)"
      ]
     },
     "execution_count": 256,
     "metadata": {},
     "output_type": "execute_result"
    }
   ],
   "source": [
    "end_f[:10]"
   ]
  },
  {
   "cell_type": "code",
   "execution_count": 257,
   "metadata": {
    "collapsed": false
   },
   "outputs": [
    {
     "data": {
      "text/plain": [
       "array([0, 1, 2, 1, 1, 3, 4, 1, 1, 3], dtype=int64)"
      ]
     },
     "execution_count": 257,
     "metadata": {},
     "output_type": "execute_result"
    }
   ],
   "source": [
    "ending_fact[:10]"
   ]
  },
  {
   "cell_type": "code",
   "execution_count": 259,
   "metadata": {
    "collapsed": false
   },
   "outputs": [],
   "source": [
    "train_new = pd.DataFrame(train)"
   ]
  },
  {
   "cell_type": "code",
   "execution_count": 313,
   "metadata": {
    "collapsed": false
   },
   "outputs": [],
   "source": [
    "train['ending_fact']=ending_fact"
   ]
  },
  {
   "cell_type": "code",
   "execution_count": 265,
   "metadata": {
    "collapsed": false
   },
   "outputs": [],
   "source": [
    "train = train.drop(['1'], axis=1)"
   ]
  },
  {
   "cell_type": "code",
   "execution_count": 284,
   "metadata": {
    "collapsed": false
   },
   "outputs": [
    {
     "data": {
      "text/plain": [
       "array([[2, 0, 0, ..., 0, 0, 0],\n",
       "       [2, 1, 1, ..., 0, 0, 0],\n",
       "       [2, 0, 0, ..., 1, 1, 1],\n",
       "       ..., \n",
       "       [2, 0, 0, ..., 0, 0, 0],\n",
       "       [2, 0, 0, ..., 0, 0, 0],\n",
       "       [2, 0, 0, ..., 0, 0, 0]], dtype=int64)"
      ]
     },
     "execution_count": 284,
     "metadata": {},
     "output_type": "execute_result"
    }
   ],
   "source": [
    "CountVect.fit_transform(train.X[:10]).toarray()"
   ]
  },
  {
   "cell_type": "code",
   "execution_count": 361,
   "metadata": {
    "collapsed": true
   },
   "outputs": [],
   "source": [
    "CountVect = CountVectorizer(analyzer='char_wb', ngram_range=(1, 15))"
   ]
  },
  {
   "cell_type": "code",
   "execution_count": 362,
   "metadata": {
    "collapsed": false
   },
   "outputs": [
    {
     "name": "stdout",
     "output_type": "stream",
     "text": [
      "(118640, 1466722)\n"
     ]
    }
   ],
   "source": [
    "X = CountVect.fit_transform(train.X)\n",
    "#X = X.toarray()\n",
    "y=train['ending_fact']\n",
    "print X.shape"
   ]
  },
  {
   "cell_type": "code",
   "execution_count": 279,
   "metadata": {
    "collapsed": true
   },
   "outputs": [],
   "source": [
    "model_lr = LogisticRegression()"
   ]
  },
  {
   "cell_type": "code",
   "execution_count": 281,
   "metadata": {
    "collapsed": false
   },
   "outputs": [
    {
     "data": {
      "text/plain": [
       "LogisticRegression(C=1.0, class_weight=None, dual=False, fit_intercept=True,\n",
       "          intercept_scaling=1, max_iter=100, multi_class='ovr', n_jobs=1,\n",
       "          penalty='l2', random_state=None, solver='liblinear', tol=0.0001,\n",
       "          verbose=0, warm_start=False)"
      ]
     },
     "execution_count": 281,
     "metadata": {},
     "output_type": "execute_result"
    }
   ],
   "source": [
    "model_lr.fit(X=X, y=ending_fact)"
   ]
  },
  {
   "cell_type": "markdown",
   "metadata": {},
   "source": [
    "ngram_range = (1, 2)"
   ]
  },
  {
   "cell_type": "code",
   "execution_count": 282,
   "metadata": {
    "collapsed": false
   },
   "outputs": [
    {
     "name": "stderr",
     "output_type": "stream",
     "text": [
      "C:\\Users\\Petr\\Anaconda2\\lib\\site-packages\\sklearn\\model_selection\\_split.py:581: Warning: The least populated class in y has only 1 members, which is too few. The minimum number of groups for any class cannot be less than n_splits=3.\n",
      "  % (min_groups, self.n_splits)), Warning)\n"
     ]
    },
    {
     "data": {
      "text/plain": [
       "array([ 0.71134203,  0.71430739,  0.71217945])"
      ]
     },
     "execution_count": 282,
     "metadata": {},
     "output_type": "execute_result"
    }
   ],
   "source": [
    "cross_val_score(model_lr, X=X, y=ending_fact, scoring='accuracy')"
   ]
  },
  {
   "cell_type": "markdown",
   "metadata": {},
   "source": [
    "ngram_range=(1, 3)"
   ]
  },
  {
   "cell_type": "code",
   "execution_count": 286,
   "metadata": {
    "collapsed": false
   },
   "outputs": [
    {
     "data": {
      "text/plain": [
       "array([ 0.8625354 ,  0.86365246,  0.86411916])"
      ]
     },
     "execution_count": 286,
     "metadata": {},
     "output_type": "execute_result"
    }
   ],
   "source": [
    "cross_val_score(model_lr, X=X, y=ending_fact, scoring='accuracy')"
   ]
  },
  {
   "cell_type": "markdown",
   "metadata": {},
   "source": [
    "ngram_range=(1,4)"
   ]
  },
  {
   "cell_type": "code",
   "execution_count": 315,
   "metadata": {
    "collapsed": false
   },
   "outputs": [
    {
     "data": {
      "text/plain": [
       "array([ 0.85826175,  0.85060667,  0.85392405])"
      ]
     },
     "execution_count": 315,
     "metadata": {},
     "output_type": "execute_result"
    }
   ],
   "source": [
    "cross_val_score(model_lr, X=X, y=y, scoring='accuracy')"
   ]
  },
  {
   "cell_type": "markdown",
   "metadata": {},
   "source": [
    "ngram_range=(1,5)"
   ]
  },
  {
   "cell_type": "code",
   "execution_count": 318,
   "metadata": {
    "collapsed": false
   },
   "outputs": [
    {
     "data": {
      "text/plain": [
       "array([ 0.86609399,  0.85768453,  0.86177215])"
      ]
     },
     "execution_count": 318,
     "metadata": {},
     "output_type": "execute_result"
    }
   ],
   "source": [
    "cross_val_score(model_lr, X=X, y=y, scoring='accuracy')"
   ]
  },
  {
   "cell_type": "markdown",
   "metadata": {},
   "source": [
    "ngram_range=(1, 6)"
   ]
  },
  {
   "cell_type": "code",
   "execution_count": 322,
   "metadata": {
    "collapsed": false
   },
   "outputs": [
    {
     "data": {
      "text/plain": [
       "array([ 0.8676099 ,  0.85667341,  0.86658228])"
      ]
     },
     "execution_count": 322,
     "metadata": {},
     "output_type": "execute_result"
    }
   ],
   "source": [
    "cross_val_score(model_lr, X=X, y=y, scoring='accuracy')"
   ]
  },
  {
   "cell_type": "markdown",
   "metadata": {},
   "source": [
    "ngram_range=(1, 7)"
   ]
  },
  {
   "cell_type": "code",
   "execution_count": 333,
   "metadata": {
    "collapsed": false
   },
   "outputs": [
    {
     "data": {
      "text/plain": [
       "array([ 0.86457807,  0.85439838,  0.86607595])"
      ]
     },
     "execution_count": 333,
     "metadata": {},
     "output_type": "execute_result"
    }
   ],
   "source": [
    "cross_val_score(model_lr, X=X, y=y, scoring='accuracy')"
   ]
  },
  {
   "cell_type": "markdown",
   "metadata": {},
   "source": [
    "ngram_range=(1, 10)"
   ]
  },
  {
   "cell_type": "code",
   "execution_count": 354,
   "metadata": {
    "collapsed": false
   },
   "outputs": [
    {
     "name": "stdout",
     "output_type": "stream",
     "text": [
      "(118640, 907573)\n"
     ]
    },
    {
     "data": {
      "text/plain": [
       "array([ 0.92420105,  0.92383553,  0.92580041])"
      ]
     },
     "execution_count": 354,
     "metadata": {},
     "output_type": "execute_result"
    }
   ],
   "source": [
    "print X.shape\n",
    "cross_val_score(model_lr, X=X, y=y, scoring='accuracy')"
   ]
  },
  {
   "cell_type": "markdown",
   "metadata": {},
   "source": [
    "ngram_range=(1, 11)"
   ]
  },
  {
   "cell_type": "code",
   "execution_count": 358,
   "metadata": {
    "collapsed": false
   },
   "outputs": [
    {
     "name": "stdout",
     "output_type": "stream",
     "text": [
      "(118640, 1093627)\n"
     ]
    },
    {
     "data": {
      "text/plain": [
       "array([ 0.92369539,  0.92322865,  0.92514289])"
      ]
     },
     "execution_count": 358,
     "metadata": {},
     "output_type": "execute_result"
    }
   ],
   "source": [
    "print X.shape\n",
    "cross_val_score(model_lr, X=X, y=y, scoring='accuracy')"
   ]
  },
  {
   "cell_type": "markdown",
   "metadata": {},
   "source": [
    "ngram_range=(1,15)"
   ]
  },
  {
   "cell_type": "code",
   "execution_count": 363,
   "metadata": {
    "collapsed": false
   },
   "outputs": [
    {
     "name": "stdout",
     "output_type": "stream",
     "text": [
      "(118640, 1466722)\n"
     ]
    },
    {
     "data": {
      "text/plain": [
       "array([ 0.92288633,  0.9223436 ,  0.92418188])"
      ]
     },
     "execution_count": 363,
     "metadata": {},
     "output_type": "execute_result"
    }
   ],
   "source": [
    "print X.shape\n",
    "cross_val_score(model_lr, X=X, y=y, scoring='accuracy')"
   ]
  },
  {
   "cell_type": "code",
   "execution_count": null,
   "metadata": {
    "collapsed": true
   },
   "outputs": [],
   "source": []
  }
 ],
 "metadata": {
  "kernelspec": {
   "display_name": "Python 2",
   "language": "python",
   "name": "python2"
  },
  "language_info": {
   "codemirror_mode": {
    "name": "ipython",
    "version": 2
   },
   "file_extension": ".py",
   "mimetype": "text/x-python",
   "name": "python",
   "nbconvert_exporter": "python",
   "pygments_lexer": "ipython2",
   "version": "2.7.12"
  }
 },
 "nbformat": 4,
 "nbformat_minor": 0
}
