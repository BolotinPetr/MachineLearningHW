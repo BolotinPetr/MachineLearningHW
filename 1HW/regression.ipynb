{
 "cells": [
  {
   "cell_type": "code",
   "execution_count": 8,
   "metadata": {
    "collapsed": true
   },
   "outputs": [],
   "source": [
    "import matplotlib.pyplot as plt\n",
    "import numpy as np\n",
    "import random\n",
    "from scipy.optimize import minimize\n",
    "from random import gauss"
   ]
  },
  {
   "cell_type": "code",
   "execution_count": 9,
   "metadata": {
    "collapsed": true
   },
   "outputs": [],
   "source": [
    "def line_gauss(t, params):\n",
    "    return np.array([params[0] * coordinate + params[1] + gauss(0, 0.2) for coordinate in t])\n",
    "\n",
    "\n",
    "def line(t, params):\n",
    "    return np.array([params[0] * coordinate + params[1] for coordinate in t])\n",
    "\n",
    "\n",
    "def mse(y_1, y_2):\n",
    "    return reduce(lambda a, b: a + b, (y_1 - y_2) ** 2)\n",
    "\n",
    "\n",
    "def mae(y_1, y_2):\n",
    "    return reduce(lambda a, b: a + b, abs(y_1 - y_2))"
   ]
  },
  {
   "cell_type": "markdown",
   "metadata": {},
   "source": [
    "Для удобства определим функцию, которую можно будет подставлять в plt.plot"
   ]
  },
  {
   "cell_type": "code",
   "execution_count": 3,
   "metadata": {
    "collapsed": true
   },
   "outputs": [],
   "source": [
    "def solve_problem_by(error_function, x_experiment, y_experiment):\n",
    "    def general_error(a):\n",
    "        y_test = line(x_experiment, a)\n",
    "        return error_function(y_test, y_experiment)\n",
    "    initial = np.array([1, 1, 1])\n",
    "    result = minimize(general_error, initial, method='nelder-mead')\n",
    "    return result.x"
   ]
  },
  {
   "cell_type": "code",
   "execution_count": 6,
   "metadata": {
    "collapsed": false
   },
   "outputs": [],
   "source": [
    "%matplotlib inline"
   ]
  },
  {
   "cell_type": "code",
   "execution_count": 11,
   "metadata": {
    "collapsed": false
   },
   "outputs": [
    {
     "data": {
      "text/plain": [
       "<matplotlib.collections.PathCollection at 0x893c588>"
      ]
     },
     "execution_count": 11,
     "metadata": {},
     "output_type": "execute_result"
    },
    {
     "data": {
      "image/png": "[encoded data removed]",
      "text/plain": [
       "<matplotlib.figure.Figure at 0x85bb278>"
      ]
     },
     "metadata": {},
     "output_type": "display_data"
    }
   ],
   "source": [
    "x = np.random.uniform(0, 500, 500)\n",
    "y = line_gauss(x, [0.5, 1])\n",
    "\n",
    "plt.plot(x, line(x, solve_problem_by(mse, x, y)), 'r')\n",
    "plt.plot(x, line(x, solve_problem_by(mae, x, y)), 'g')\n",
    "plt.scatter(x, y)"
   ]
  },
  {
   "cell_type": "markdown",
   "metadata": {},
   "source": [
    "Очень много точек в обучающей выборке, поэтому обе кривые приблизили очень хорошо. Нужно добавить выбросов."
   ]
  },
  {
   "cell_type": "code",
   "execution_count": 12,
   "metadata": {
    "collapsed": true
   },
   "outputs": [],
   "source": [
    "x1 = np.random.uniform(0, 500, 75)\n",
    "y1 = line_gauss(x1, [0, -1])\n",
    "x = np.concatenate((x, x1))\n",
    "y = np.concatenate((y, y1))"
   ]
  },
  {
   "cell_type": "code",
   "execution_count": 13,
   "metadata": {
    "collapsed": false
   },
   "outputs": [
    {
     "data": {
      "text/plain": [
       "[<matplotlib.lines.Line2D at 0x8ced748>]"
      ]
     },
     "execution_count": 13,
     "metadata": {},
     "output_type": "execute_result"
    },
    {
     "data": {
      "image/png": "[encoded data removed]",
      "text/plain": [
       "<matplotlib.figure.Figure at 0x85bb940>"
      ]
     },
     "metadata": {},
     "output_type": "display_data"
    }
   ],
   "source": [
    "plt.scatter(x, y)\n",
    "plt.plot(x, line(x, solve_problem_by(mse, x, y)), 'r')\n",
    "plt.plot(x, line(x, solve_problem_by(mae, x, y)), 'g')"
   ]
  },
  {
   "cell_type": "markdown",
   "metadata": {},
   "source": [
    "Видно, что mae более устойчива лучше, так и должно быть, это следует из свойств медианы. "
   ]
  },
  {
   "cell_type": "code",
   "execution_count": null,
   "metadata": {
    "collapsed": true
   },
   "outputs": [],
   "source": []
  }
 ],
 "metadata": {
  "kernelspec": {
   "display_name": "Python 2",
   "language": "python",
   "name": "python2"
  },
  "language_info": {
   "codemirror_mode": {
    "name": "ipython",
    "version": 2
   },
   "file_extension": ".py",
   "mimetype": "text/x-python",
   "name": "python",
   "nbconvert_exporter": "python",
   "pygments_lexer": "ipython2",
   "version": "2.7.12"
  }
 },
 "nbformat": 4,
 "nbformat_minor": 0
}
