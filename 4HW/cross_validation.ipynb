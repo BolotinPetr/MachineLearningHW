{
 "cells": [
  {
   "cell_type": "code",
   "execution_count": 1,
   "metadata": {
    "collapsed": true
   },
   "outputs": [],
   "source": [
    "import pandas as pd\n",
    "from sklearn.metrics import roc_auc_score\n",
    "from sklearn.model_selection import cross_val_score\n",
    "from sklearn.feature_extraction.text import CountVectorizer\n",
    "from sklearn.feature_extraction import DictVectorizer\n",
    "from sklearn.pipeline import Pipeline, make_pipeline\n",
    "from sklearn.svm import SVC, LinearSVC\n",
    "import numpy as np\n",
    "import seaborn as sns\n",
    "import scipy\n",
    "import matplotlib.pyplot as plt\n",
    "from sklearn.feature_extraction.text import CountVectorizer, TfidfVectorizer\n",
    "from sklearn.ensemble import RandomForestClassifier, ExtraTreesClassifier\n",
    "from sklearn.linear_model import LogisticRegression, LinearRegression\n",
    "from sklearn.model_selection import cross_val_score, StratifiedKFold\n",
    "from sklearn.svm import SVC\n",
    "from sklearn.metrics import roc_auc_score\n",
    "from scipy.sparse import csr_matrix, hstack, vstack, csc_matrix\n",
    "from nltk.stem import PorterStemmer\n",
    "import scipy as sc\n",
    "from sklearn.preprocessing import OneHotEncoder\n",
    "from mlxtend.classifier import StackingClassifier, StackingCVClassifier\n",
    "from xgboost import XGBClassifier\n",
    "from sklearn.neighbors import KNeighborsClassifier\n",
    "import nltk\n",
    "import re\n",
    "from scipy.sparse import hstack, csr_matrix\n",
    "%matplotlib inline"
   ]
  },
  {
   "cell_type": "code",
   "execution_count": 2,
   "metadata": {
    "collapsed": true
   },
   "outputs": [],
   "source": [
    "def base_and_ending(X, y):\n",
    "    base = []\n",
    "    ending = []\n",
    "    flag = True\n",
    "    if len(X) >= len(y):\n",
    "        length = len(y)\n",
    "    else:\n",
    "        length = len(X)\n",
    "    for i in range(length):\n",
    "        if X[i] == y[i] and flag==True:\n",
    "            base.append(X[i])\n",
    "        else:\n",
    "            flag = False\n",
    "    ending = y.replace(''.join(base),\"\")\n",
    "    return ''.join(base), ending"
   ]
  },
  {
   "cell_type": "code",
   "execution_count": 3,
   "metadata": {
    "collapsed": true
   },
   "outputs": [],
   "source": [
    "def vowel_or_consonant(word):\n",
    "    alpha = word[-1] \n",
    "    if alpha == 'a' or alpha == 'e' or alpha == 'i' or alpha == 'o' or alpha =='u' or alpha == 'y':\n",
    "        return 1\n",
    "    else:\n",
    "        return 0"
   ]
  },
  {
   "cell_type": "code",
   "execution_count": 4,
   "metadata": {
    "collapsed": true
   },
   "outputs": [],
   "source": [
    "def ratio_v_and_c(word):\n",
    "    v, c = 0., 0.\n",
    "    for alpha in word:\n",
    "        if alpha == 'a' or alpha == 'e' or alpha == 'i' or alpha == 'o' or alpha =='u' or alpha == 'y':\n",
    "            v += 1\n",
    "        else:\n",
    "            c += 1\n",
    "    if c == 0:\n",
    "        return 0\n",
    "    else:\n",
    "        return v/c        "
   ]
  },
  {
   "cell_type": "code",
   "execution_count": 5,
   "metadata": {
    "collapsed": false
   },
   "outputs": [],
   "source": [
    "def transform_features(data):    \n",
    "    data = data.drop(['Id'], axis=1)\n",
    "    data = data.drop(0, axis=0)    \n",
    "    \n",
    "    form = []\n",
    "    for i in data.y:\n",
    "        form.append(i[-1])\n",
    "    data['form'] = form\n",
    "    \n",
    "    data['word'] = data.y.map(lambda x: re.sub(\"[+,V,A,N]\", \"\", x))\n",
    "    \n",
    "    base = []\n",
    "    ending = []\n",
    "    cv_ratio = []\n",
    "    length = []\n",
    "    for X, y in zip(data.X, data.word):\n",
    "        cv_ratio.append(ratio_v_and_c(X))\n",
    "        length.append(len(X))\n",
    "        b, e = base_and_ending(X, y)\n",
    "        base.append(b)\n",
    "        ending.append(e)\n",
    "    data['base'] = base\n",
    "    data['ending'] = ending\n",
    "    data['ratio'] = cv_ratio\n",
    "    data['X_length'] = length\n",
    "    \n",
    "    end_length = []\n",
    "    for X, base in zip(data.X, data.base):        \n",
    "        end_length.append(len(X.replace(base,\"\")))\n",
    "    data['end_l'] = end_length\n",
    "    data = data.drop(['y'], axis=1)\n",
    "    return data"
   ]
  },
  {
   "cell_type": "code",
   "execution_count": 29,
   "metadata": {
    "collapsed": false
   },
   "outputs": [],
   "source": [
    "train = pd.read_csv('task2_lemmas_train.txt', names=['Id', 'X', 'y'])\n",
    "test = pd.read_csv('task2_lemmas_test.txt', names=['Id', 'X'])\n",
    "sample = pd.read_csv('task2_lemmas_sample_submission.txt', names=['Id', 'Category'])\n",
    "\n",
    "train = transform_features(train)\n",
    "\n",
    "test = test.drop(['Id'], axis=1)\n",
    "test = test.drop(0, axis=0) \n",
    "\n",
    "sample = sample.drop(['Id'], axis=1)\n",
    "sample = sample.drop(0, axis=0)"
   ]
  },
  {
   "cell_type": "code",
   "execution_count": 30,
   "metadata": {
    "collapsed": false
   },
   "outputs": [
    {
     "data": {
      "text/html": [
       "<div>\n",
       "<table border=\"1\" class=\"dataframe\">\n",
       "  <thead>\n",
       "    <tr style=\"text-align: right;\">\n",
       "      <th></th>\n",
       "      <th>X</th>\n",
       "      <th>form</th>\n",
       "      <th>word</th>\n",
       "      <th>base</th>\n",
       "      <th>ending</th>\n",
       "      <th>ratio</th>\n",
       "      <th>X_length</th>\n",
       "      <th>end_l</th>\n",
       "    </tr>\n",
       "  </thead>\n",
       "  <tbody>\n",
       "    <tr>\n",
       "      <th>1</th>\n",
       "      <td>vergognerete</td>\n",
       "      <td>V</td>\n",
       "      <td>vergognare</td>\n",
       "      <td>vergogn</td>\n",
       "      <td>are</td>\n",
       "      <td>0.714286</td>\n",
       "      <td>12</td>\n",
       "      <td>5</td>\n",
       "    </tr>\n",
       "    <tr>\n",
       "      <th>2</th>\n",
       "      <td>amnistiavate</td>\n",
       "      <td>V</td>\n",
       "      <td>amnistiare</td>\n",
       "      <td>amnistia</td>\n",
       "      <td>re</td>\n",
       "      <td>1.000000</td>\n",
       "      <td>12</td>\n",
       "      <td>4</td>\n",
       "    </tr>\n",
       "    <tr>\n",
       "      <th>3</th>\n",
       "      <td>menomazione</td>\n",
       "      <td>N</td>\n",
       "      <td>menomazione</td>\n",
       "      <td>menomazione</td>\n",
       "      <td></td>\n",
       "      <td>1.200000</td>\n",
       "      <td>11</td>\n",
       "      <td>0</td>\n",
       "    </tr>\n",
       "  </tbody>\n",
       "</table>\n",
       "</div>"
      ],
      "text/plain": [
       "              X form         word         base ending     ratio  X_length  \\\n",
       "1  vergognerete    V   vergognare      vergogn    are  0.714286        12   \n",
       "2  amnistiavate    V   amnistiare     amnistia     re  1.000000        12   \n",
       "3   menomazione    N  menomazione  menomazione         1.200000        11   \n",
       "\n",
       "   end_l  \n",
       "1      5  \n",
       "2      4  \n",
       "3      0  "
      ]
     },
     "execution_count": 30,
     "metadata": {},
     "output_type": "execute_result"
    }
   ],
   "source": [
    "train[:3]"
   ]
  },
  {
   "cell_type": "code",
   "execution_count": 31,
   "metadata": {
    "collapsed": true
   },
   "outputs": [],
   "source": [
    "test_cv_ratio, test_length = [], []\n",
    "for X in test.X:\n",
    "        test_cv_ratio.append(ratio_v_and_c(X))\n",
    "        test_length.append(len(X))\n",
    "test['X_length'] = test_length\n",
    "test['ratio'] = test_cv_ratio"
   ]
  },
  {
   "cell_type": "code",
   "execution_count": 32,
   "metadata": {
    "collapsed": false
   },
   "outputs": [
    {
     "data": {
      "text/html": [
       "<div>\n",
       "<table border=\"1\" class=\"dataframe\">\n",
       "  <thead>\n",
       "    <tr style=\"text-align: right;\">\n",
       "      <th></th>\n",
       "      <th>X</th>\n",
       "      <th>X_length</th>\n",
       "      <th>ratio</th>\n",
       "    </tr>\n",
       "  </thead>\n",
       "  <tbody>\n",
       "    <tr>\n",
       "      <th>1</th>\n",
       "      <td>gettonan</td>\n",
       "      <td>8</td>\n",
       "      <td>0.600000</td>\n",
       "    </tr>\n",
       "    <tr>\n",
       "      <th>2</th>\n",
       "      <td>incidentali</td>\n",
       "      <td>11</td>\n",
       "      <td>0.833333</td>\n",
       "    </tr>\n",
       "    <tr>\n",
       "      <th>3</th>\n",
       "      <td>involtino</td>\n",
       "      <td>9</td>\n",
       "      <td>0.800000</td>\n",
       "    </tr>\n",
       "  </tbody>\n",
       "</table>\n",
       "</div>"
      ],
      "text/plain": [
       "             X  X_length     ratio\n",
       "1     gettonan         8  0.600000\n",
       "2  incidentali        11  0.833333\n",
       "3    involtino         9  0.800000"
      ]
     },
     "execution_count": 32,
     "metadata": {},
     "output_type": "execute_result"
    }
   ],
   "source": [
    "test[:3]"
   ]
  },
  {
   "cell_type": "code",
   "execution_count": 33,
   "metadata": {
    "collapsed": false
   },
   "outputs": [
    {
     "data": {
      "text/html": [
       "<div>\n",
       "<table border=\"1\" class=\"dataframe\">\n",
       "  <thead>\n",
       "    <tr style=\"text-align: right;\">\n",
       "      <th></th>\n",
       "      <th>X</th>\n",
       "      <th>form</th>\n",
       "      <th>word</th>\n",
       "      <th>base</th>\n",
       "      <th>ending</th>\n",
       "      <th>ratio</th>\n",
       "      <th>X_length</th>\n",
       "      <th>end_l</th>\n",
       "    </tr>\n",
       "  </thead>\n",
       "  <tbody>\n",
       "  </tbody>\n",
       "</table>\n",
       "</div>"
      ],
      "text/plain": [
       "Empty DataFrame\n",
       "Columns: [X, form, word, base, ending, ratio, X_length, end_l]\n",
       "Index: []"
      ]
     },
     "execution_count": 33,
     "metadata": {},
     "output_type": "execute_result"
    }
   ],
   "source": [
    "test[test.X_length.isnull()]\n",
    "train[train.X_length.isnull()]"
   ]
  },
  {
   "cell_type": "code",
   "execution_count": 34,
   "metadata": {
    "collapsed": false
   },
   "outputs": [
    {
     "data": {
      "text/html": [
       "<div>\n",
       "<table border=\"1\" class=\"dataframe\">\n",
       "  <thead>\n",
       "    <tr style=\"text-align: right;\">\n",
       "      <th></th>\n",
       "      <th>X</th>\n",
       "      <th>form</th>\n",
       "      <th>word</th>\n",
       "      <th>base</th>\n",
       "      <th>ending</th>\n",
       "      <th>ratio</th>\n",
       "      <th>X_length</th>\n",
       "      <th>end_l</th>\n",
       "    </tr>\n",
       "  </thead>\n",
       "  <tbody>\n",
       "  </tbody>\n",
       "</table>\n",
       "</div>"
      ],
      "text/plain": [
       "Empty DataFrame\n",
       "Columns: [X, form, word, base, ending, ratio, X_length, end_l]\n",
       "Index: []"
      ]
     },
     "execution_count": 34,
     "metadata": {},
     "output_type": "execute_result"
    }
   ],
   "source": [
    "test[test.ratio.isnull()]\n",
    "train[train.ratio.isnull()]"
   ]
  },
  {
   "cell_type": "code",
   "execution_count": 17,
   "metadata": {
    "collapsed": false
   },
   "outputs": [
    {
     "name": "stdout",
     "output_type": "stream",
     "text": [
      "form predicted\n"
     ]
    }
   ],
   "source": [
    "#%%time\n",
    "all_data = pd.concat([train, test])\n",
    "cv = CountVectorizer(analyzer='char_wb', lowercase = True, ngram_range=(1, 8))\n",
    "X = cv.fit_transform(all_data.X)\n",
    "X = csr_matrix(hstack([X, csr_matrix(all_data[['X_length', 'ratio']])]))\n",
    "X_train, X_test = X[:len(train)], X[len(train):]\n",
    "clf = LogisticRegression(C=50)\n",
    "clf.fit(X_train, train.form)\n",
    "form_pred = clf.predict(X_test)\n",
    "print 'form predicted'"
   ]
  },
  {
   "cell_type": "code",
   "execution_count": 13,
   "metadata": {
    "collapsed": false
   },
   "outputs": [
    {
     "data": {
      "text/plain": [
       "array([ 0.96715384,  0.96601512,  0.96833987])"
      ]
     },
     "execution_count": 13,
     "metadata": {},
     "output_type": "execute_result"
    }
   ],
   "source": [
    "all_data = pd.concat([train, test])\n",
    "cv = CountVectorizer(analyzer='char_wb', lowercase = True, ngram_range=(1, 8))\n",
    "X = cv.fit_transform(all_data.X)\n",
    "X = csr_matrix(hstack([X, csr_matrix(all_data[['X_length', 'ratio']])]))\n",
    "X_train, X_test = X[:len(train)], X[len(train):]\n",
    "clf = LogisticRegression(C=50)\n",
    "cross_val_score(clf, X_train, train.form)"
   ]
  },
  {
   "cell_type": "code",
   "execution_count": 15,
   "metadata": {
    "collapsed": false
   },
   "outputs": [
    {
     "name": "stdout",
     "output_type": "stream",
     "text": [
      "[ 0.9665217   0.96515538  0.96793526]\n",
      "Wall time: 3min 14s\n"
     ]
    }
   ],
   "source": [
    "%%time\n",
    "all_data = pd.concat([train, test])\n",
    "cv = CountVectorizer(analyzer='char_wb', lowercase = True, ngram_range=(1, 10))\n",
    "X = cv.fit_transform(all_data.X)\n",
    "X = csr_matrix(hstack([X, csr_matrix(all_data[['X_length', 'ratio']])]))\n",
    "X_train, X_test = X[:len(train)], X[len(train):]\n",
    "clf = LogisticRegression(C=50)\n",
    "print cross_val_score(clf, X_train, train.form)"
   ]
  },
  {
   "cell_type": "code",
   "execution_count": 18,
   "metadata": {
    "collapsed": false
   },
   "outputs": [
    {
     "name": "stdout",
     "output_type": "stream",
     "text": [
      "ending predicted\n",
      "Wall time: 10min 1s\n"
     ]
    }
   ],
   "source": [
    "%%time\n",
    "test['form'] = form_pred\n",
    "test = pd.get_dummies(test, columns=['form'])\n",
    "train = pd.get_dummies(train, columns=['form'])\n",
    "all_data = pd.concat([train, test])\n",
    "cv = CountVectorizer(analyzer='char_wb', ngram_range=(1, 7), lowercase = True)\n",
    "X = cv.fit_transform(all_data.X)\n",
    "X = csr_matrix(hstack([X, csr_matrix(all_data[['form_A','form_N','form_V', 'X_length', 'ratio']])]))\n",
    "X_train, X_test = X[:len(train)], X[len(train):]\n",
    "clf.fit(X_train, train['ending'])\n",
    "ending_pred = clf.predict(X_test)\n",
    "print 'ending predicted'"
   ]
  },
  {
   "cell_type": "code",
   "execution_count": 14,
   "metadata": {
    "collapsed": false
   },
   "outputs": [
    {
     "name": "stdout",
     "output_type": "stream",
     "text": [
      "[ 0.95028922  0.95004806  0.95249665]\n"
     ]
    },
    {
     "name": "stderr",
     "output_type": "stream",
     "text": [
      "C:\\Users\\Petr\\Anaconda2\\lib\\site-packages\\sklearn\\model_selection\\_split.py:581: Warning: The least populated class in y has only 1 members, which is too few. The minimum number of groups for any class cannot be less than n_splits=3.\n",
      "  % (min_groups, self.n_splits)), Warning)\n"
     ]
    }
   ],
   "source": [
    "all_data = pd.concat([train, test])\n",
    "clf = LogisticRegression(C=50)\n",
    "cv = CountVectorizer(analyzer='char_wb', ngram_range=(1, 7), lowercase = True)\n",
    "X = cv.fit_transform(all_data.X)\n",
    "X = csr_matrix(hstack([X, csr_matrix(all_data[['X_length', 'ratio']])]))\n",
    "X_train, X_test = X[:len(train)], X[len(train):]\n",
    "print cross_val_score(clf, X_train, train['ending'])"
   ]
  },
  {
   "cell_type": "code",
   "execution_count": 35,
   "metadata": {
    "collapsed": false
   },
   "outputs": [],
   "source": [
    "test['ending'] = ending_pred\n",
    "all_data = pd.concat([train, test])"
   ]
  },
  {
   "cell_type": "code",
   "execution_count": 36,
   "metadata": {
    "collapsed": false
   },
   "outputs": [
    {
     "data": {
      "text/html": [
       "<div>\n",
       "<table border=\"1\" class=\"dataframe\">\n",
       "  <thead>\n",
       "    <tr style=\"text-align: right;\">\n",
       "      <th></th>\n",
       "      <th>X</th>\n",
       "      <th>X_length</th>\n",
       "      <th>ratio</th>\n",
       "      <th>ending</th>\n",
       "    </tr>\n",
       "  </thead>\n",
       "  <tbody>\n",
       "    <tr>\n",
       "      <th>1</th>\n",
       "      <td>gettonan</td>\n",
       "      <td>8</td>\n",
       "      <td>0.600000</td>\n",
       "      <td>re</td>\n",
       "    </tr>\n",
       "    <tr>\n",
       "      <th>2</th>\n",
       "      <td>incidentali</td>\n",
       "      <td>11</td>\n",
       "      <td>0.833333</td>\n",
       "      <td>e</td>\n",
       "    </tr>\n",
       "    <tr>\n",
       "      <th>3</th>\n",
       "      <td>involtino</td>\n",
       "      <td>9</td>\n",
       "      <td>0.800000</td>\n",
       "      <td>are</td>\n",
       "    </tr>\n",
       "  </tbody>\n",
       "</table>\n",
       "</div>"
      ],
      "text/plain": [
       "             X  X_length     ratio ending\n",
       "1     gettonan         8  0.600000     re\n",
       "2  incidentali        11  0.833333      e\n",
       "3    involtino         9  0.800000    are"
      ]
     },
     "execution_count": 36,
     "metadata": {},
     "output_type": "execute_result"
    }
   ],
   "source": [
    "test[:3]"
   ]
  },
  {
   "cell_type": "code",
   "execution_count": 37,
   "metadata": {
    "collapsed": false
   },
   "outputs": [],
   "source": [
    "v_or_c = []\n",
    "for ending in all_data.ending:\n",
    "    if len(ending) != 0:\n",
    "        v_or_c.append(vowel_or_consonant(ending[::-1]))\n",
    "    else:\n",
    "        v_or_c.append(10)\n",
    "all_data['v_or_c'] = v_or_c"
   ]
  },
  {
   "cell_type": "code",
   "execution_count": 38,
   "metadata": {
    "collapsed": false
   },
   "outputs": [
    {
     "data": {
      "text/html": [
       "<div>\n",
       "<table border=\"1\" class=\"dataframe\">\n",
       "  <thead>\n",
       "    <tr style=\"text-align: right;\">\n",
       "      <th></th>\n",
       "      <th>X</th>\n",
       "      <th>X_length</th>\n",
       "      <th>base</th>\n",
       "      <th>end_l</th>\n",
       "      <th>ending</th>\n",
       "      <th>form</th>\n",
       "      <th>ratio</th>\n",
       "      <th>word</th>\n",
       "      <th>v_or_c</th>\n",
       "    </tr>\n",
       "  </thead>\n",
       "  <tbody>\n",
       "    <tr>\n",
       "      <th>1</th>\n",
       "      <td>vergognerete</td>\n",
       "      <td>12</td>\n",
       "      <td>vergogn</td>\n",
       "      <td>5.0</td>\n",
       "      <td>are</td>\n",
       "      <td>V</td>\n",
       "      <td>0.714286</td>\n",
       "      <td>vergognare</td>\n",
       "      <td>1</td>\n",
       "    </tr>\n",
       "    <tr>\n",
       "      <th>2</th>\n",
       "      <td>amnistiavate</td>\n",
       "      <td>12</td>\n",
       "      <td>amnistia</td>\n",
       "      <td>4.0</td>\n",
       "      <td>re</td>\n",
       "      <td>V</td>\n",
       "      <td>1.000000</td>\n",
       "      <td>amnistiare</td>\n",
       "      <td>0</td>\n",
       "    </tr>\n",
       "    <tr>\n",
       "      <th>3</th>\n",
       "      <td>menomazione</td>\n",
       "      <td>11</td>\n",
       "      <td>menomazione</td>\n",
       "      <td>0.0</td>\n",
       "      <td></td>\n",
       "      <td>N</td>\n",
       "      <td>1.200000</td>\n",
       "      <td>menomazione</td>\n",
       "      <td>10</td>\n",
       "    </tr>\n",
       "    <tr>\n",
       "      <th>4</th>\n",
       "      <td>sfaldavamo</td>\n",
       "      <td>10</td>\n",
       "      <td>sfalda</td>\n",
       "      <td>4.0</td>\n",
       "      <td>re</td>\n",
       "      <td>V</td>\n",
       "      <td>0.666667</td>\n",
       "      <td>sfaldare</td>\n",
       "      <td>0</td>\n",
       "    </tr>\n",
       "    <tr>\n",
       "      <th>5</th>\n",
       "      <td>sfodererei</td>\n",
       "      <td>10</td>\n",
       "      <td>sfoder</td>\n",
       "      <td>4.0</td>\n",
       "      <td>are</td>\n",
       "      <td>V</td>\n",
       "      <td>1.000000</td>\n",
       "      <td>sfoderare</td>\n",
       "      <td>1</td>\n",
       "    </tr>\n",
       "  </tbody>\n",
       "</table>\n",
       "</div>"
      ],
      "text/plain": [
       "              X  X_length         base  end_l ending form     ratio  \\\n",
       "1  vergognerete        12      vergogn    5.0    are    V  0.714286   \n",
       "2  amnistiavate        12     amnistia    4.0     re    V  1.000000   \n",
       "3   menomazione        11  menomazione    0.0           N  1.200000   \n",
       "4    sfaldavamo        10       sfalda    4.0     re    V  0.666667   \n",
       "5    sfodererei        10       sfoder    4.0    are    V  1.000000   \n",
       "\n",
       "          word  v_or_c  \n",
       "1   vergognare       1  \n",
       "2   amnistiare       0  \n",
       "3  menomazione      10  \n",
       "4     sfaldare       0  \n",
       "5    sfoderare       1  "
      ]
     },
     "execution_count": 38,
     "metadata": {},
     "output_type": "execute_result"
    }
   ],
   "source": [
    "all_data[:5]"
   ]
  },
  {
   "cell_type": "code",
   "execution_count": 39,
   "metadata": {
    "collapsed": true
   },
   "outputs": [],
   "source": [
    "all_data = pd.get_dummies(all_data, columns=['ending'])\n",
    "all_data = pd.get_dummies(all_data, columns=['form'])"
   ]
  },
  {
   "cell_type": "code",
   "execution_count": 40,
   "metadata": {
    "collapsed": false
   },
   "outputs": [],
   "source": [
    "pd.set_option('display.max_seq_items', len(all_data))\n",
    "pd.set_option('display.max_columns', 500)"
   ]
  },
  {
   "cell_type": "code",
   "execution_count": 41,
   "metadata": {
    "collapsed": false
   },
   "outputs": [
    {
     "data": {
      "text/plain": [
       "Index([u'X', u'X_length', u'base', u'end_l', u'ratio', u'word', u'v_or_c',\n",
       "       u'ending_', u'ending_a', u'ending_a-dati', u'ending_a-estate',\n",
       "       u'ending_a-gol', u'ending_a-italia', u'ending_a-lavoro',\n",
       "       u'ending_a-ordinanza', u'ending_a-paese', u'ending_a-paga',\n",
       "       u'ending_a-partito', u'ending_adonna', u'ending_aforte', u'ending_an',\n",
       "       u'ending_are', u'ending_arsi', u'ending_asorte', u'ending_buono',\n",
       "       u'ending_cere', u'ending_dere', u'ending_desistere', u'ending_e',\n",
       "       u'ending_e-quadro', u'ending_e-spia', u'ending_edere', u'ending_enere',\n",
       "       u'ending_enire', u'ending_ere', u'ending_ernere', u'ending_essere',\n",
       "       u'ending_ettere', u'ending_ge', u'ending_gere', u'ending_gge',\n",
       "       u'ending_ggere', u'ending_gliere', u'ending_grande', u'ending_guere',\n",
       "       u'ending_ia', u'ending_iare', u'ending_igere', u'ending_imere',\n",
       "       u'ending_ingere', u'ending_io', u'ending_ire', u'ending_lere',\n",
       "       u'ending_mpere', u'ending_ndere', u'ending_nere', u'ending_nire',\n",
       "       u'ending_o', u'ending_o-chiave', u'ending_o-leninismo',\n",
       "       u'ending_o-radar', u'ending_o-stato', u'ending_oclan',\n",
       "       u'ending_ogruppo', u'ending_olere', u'ending_olista', u'ending_omorta',\n",
       "       u'ending_ompee', u'ending_ompere', u'ending_ondere',\n",
       "       u'ending_opattuglia', u'ending_opraedere', u'ending_ore',\n",
       "       u'ending_orire', u'ending_otere', u'ending_oviro', u'ending_re',\n",
       "       u'ending_rere', u'ending_rire', u'ending_risedere', u'ending_rre',\n",
       "       u'ending_rsi', u'ending_scere', u'ending_scuotere', u'ending_si',\n",
       "       u'ending_ssr', u'ending_tere', u'ending_to', u'ending_ttere',\n",
       "       u'ending_uocere', u'ending_uoere', u'ending_uotere', u'ending_uovere',\n",
       "       u'ending_urre', u'ending_uscire', u'ending_vere', u'ending_x',\n",
       "       u'ending_y', u'form_A', u'form_N', u'form_V'],\n",
       "      dtype='object')"
      ]
     },
     "execution_count": 41,
     "metadata": {},
     "output_type": "execute_result"
    }
   ],
   "source": [
    "all_data.columns"
   ]
  },
  {
   "cell_type": "code",
   "execution_count": 43,
   "metadata": {
    "collapsed": false
   },
   "outputs": [
    {
     "name": "stdout",
     "output_type": "stream",
     "text": [
      "(148301, 1015965)\n",
      "(148301, 1016062)\n",
      "len predicted\n"
     ]
    }
   ],
   "source": [
    "cv = CountVectorizer(analyzer='char_wb', ngram_range=(1, 10), lowercase = True, max_df=0.5)\n",
    "X = cv.fit_transform(all_data.X)\n",
    "print X.shape\n",
    "X = csr_matrix(hstack([X, csr_matrix(all_data[['X_length', 'form_A', 'form_N', 'form_V',\n",
    "                                               'ratio', 'v_or_c', u'ending_', u'ending_a', u'ending_a-dati',\n",
    "                                               u'ending_a-estate', u'ending_a-gol', u'ending_a-italia',\n",
    "                                               u'ending_a-lavoro', u'ending_a-ordinanza', u'ending_a-paese',\n",
    "                                               u'ending_a-paga', u'ending_a-partito', u'ending_adonna',\n",
    "                                               u'ending_aforte', u'ending_an', u'ending_are', u'ending_arsi',\n",
    "                                               u'ending_asorte', u'ending_buono', u'ending_cere', u'ending_dere',\n",
    "                                               u'ending_desistere', u'ending_e', u'ending_e-quadro', u'ending_e-spia',\n",
    "                                               u'ending_edere', u'ending_enere', u'ending_enire', u'ending_ere',\n",
    "                                               u'ending_ernere', u'ending_essere', u'ending_ettere', u'ending_ge',\n",
    "                                               u'ending_gere', u'ending_gge', u'ending_ggere', u'ending_gliere',\n",
    "                                               u'ending_grande', u'ending_guere', u'ending_ia', u'ending_iare',\n",
    "                                               u'ending_igere', u'ending_imere', u'ending_ingere', u'ending_io',\n",
    "                                               u'ending_ire', u'ending_lere', u'ending_mpere', u'ending_ndere',\n",
    "                                               u'ending_nere', u'ending_nire', u'ending_o', u'ending_o-chiave',\n",
    "                                               u'ending_o-leninismo', u'ending_o-radar', u'ending_o-stato',\n",
    "                                               u'ending_oclan', u'ending_ogruppo', u'ending_olere', u'ending_olista',\n",
    "                                               u'ending_omorta', u'ending_ompee', u'ending_ompere', u'ending_ondere',\n",
    "                                               u'ending_opattuglia', u'ending_opraedere', u'ending_ore',\n",
    "                                               u'ending_orire', u'ending_otere', u'ending_oviro', u'ending_re',\n",
    "                                               u'ending_rere', u'ending_rire', u'ending_risedere', u'ending_rre',\n",
    "                                               u'ending_rsi', u'ending_scere', u'ending_scuotere', u'ending_si',\n",
    "                                               u'ending_ssr', u'ending_tere', u'ending_to', u'ending_ttere',\n",
    "                                               u'ending_uocere', u'ending_uoere', u'ending_uotere', u'ending_uovere',\n",
    "                                               u'ending_urre', u'ending_uscire', u'ending_vere', u'ending_x',\n",
    "                                               u'ending_y']])]))\n",
    "print X.shape\n",
    "X_train, X_test = X[:len(train)], X[len(train):]\n",
    "clf.fit(X_train, train['end_l'])\n",
    "ending_len_pred = clf.predict(X_test)\n",
    "print 'len predicted'"
   ]
  },
  {
   "cell_type": "code",
   "execution_count": 15,
   "metadata": {
    "collapsed": false
   },
   "outputs": [
    {
     "name": "stdout",
     "output_type": "stream",
     "text": [
      "[ 0.92705805  0.92608608  0.92954327]\n",
      "len predicted\n"
     ]
    }
   ],
   "source": [
    "cv = CountVectorizer(analyzer='char_wb', ngram_range=(1, 10), lowercase = True, max_df=0.5)\n",
    "X = cv.fit_transform(all_data.X)\n",
    "X = csr_matrix(hstack([X, csr_matrix(all_data[[u'X_length', u'ratio']])]))\n",
    "X_train, X_test = X[:len(train)], X[len(train):]\n",
    "print cross_val_score(clf, X_train, train['end_l'])\n",
    "print 'len predicted'"
   ]
  },
  {
   "cell_type": "code",
   "execution_count": 44,
   "metadata": {
    "collapsed": true
   },
   "outputs": [],
   "source": [
    "predictions = []\n",
    "for i in np.linspace(1, len(ending_len_pred), len(ending_len_pred)).astype(int):\n",
    "    cutted_word = test.X[i][:-ending_len_pred[i-1]] if ending_len_pred[i-1] > 0 else test.X[i]\n",
    "    predictions.append(cutted_word + ending_pred[i-1] + '+' + form_pred[i-1])"
   ]
  },
  {
   "cell_type": "code",
   "execution_count": 45,
   "metadata": {
    "collapsed": false
   },
   "outputs": [
    {
     "data": {
      "text/plain": [
       "['gettonare+V', 'incidentale+A', 'involtare+V', 'lievo+N', 'comunistizzare+V']"
      ]
     },
     "execution_count": 45,
     "metadata": {},
     "output_type": "execute_result"
    }
   ],
   "source": [
    "predictions[:5]"
   ]
  },
  {
   "cell_type": "code",
   "execution_count": 46,
   "metadata": {
    "collapsed": true
   },
   "outputs": [],
   "source": [
    "sample['Category'] = predictions\n",
    "sample.to_csv('contest_3_submission8.csv')"
   ]
  },
  {
   "cell_type": "code",
   "execution_count": null,
   "metadata": {
    "collapsed": true
   },
   "outputs": [],
   "source": []
  }
 ],
 "metadata": {
  "kernelspec": {
   "display_name": "Python 2",
   "language": "python",
   "name": "python2"
  },
  "language_info": {
   "codemirror_mode": {
    "name": "ipython",
    "version": 2
   },
   "file_extension": ".py",
   "mimetype": "text/x-python",
   "name": "python",
   "nbconvert_exporter": "python",
   "pygments_lexer": "ipython2",
   "version": "2.7.12"
  }
 },
 "nbformat": 4,
 "nbformat_minor": 0
}
