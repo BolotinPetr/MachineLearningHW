{
 "cells": [
  {
   "cell_type": "markdown",
   "metadata": {},
   "source": [
    "Отчёт исключительно для иллюстрации, то есть, когда я пишу \"очевидно что\" или \"видна закономерность\" это значит, что в действительности всё проверялось на большем числе примеров, но перегружать файл я не хочу."
   ]
  },
  {
   "cell_type": "code",
   "execution_count": 5,
   "metadata": {
    "collapsed": true
   },
   "outputs": [],
   "source": [
    "import pandas as pd\n",
    "import numpy as np\n",
    "import xgboost as xgb\n",
    "from xgboost import XGBRegressor\n",
    "from sklearn.model_selection import TimeSeriesSplit, KFold, cross_val_score, GridSearchCV\n",
    "from sklearn.metrics import mean_absolute_error, normalized_mutual_info_score\n",
    "from sklearn.ensemble import RandomForestRegressor, RandomForestClassifier, VotingClassifier, GradientBoostingRegressor\n",
    "from sklearn.linear_model import LogisticRegression, LinearRegression\n",
    "from mlxtend.classifier import StackingClassifier\n",
    "from matplotlib import pyplot as plt\n",
    "import seaborn as sns\n",
    "%matplotlib inline"
   ]
  },
  {
   "cell_type": "code",
   "execution_count": 67,
   "metadata": {
    "collapsed": true
   },
   "outputs": [],
   "source": [
    "train = pd.DataFrame.from_csv('train.tsv')\n",
    "#train = train.sample(frac=0.01, random_state=3)\n",
    "\n",
    "target = train['y']\n",
    "train = train.drop(['y'], axis=1)"
   ]
  },
  {
   "cell_type": "code",
   "execution_count": 68,
   "metadata": {
    "collapsed": false
   },
   "outputs": [
    {
     "data": {
      "image/png": "[encoded data removed]",
      "text/plain": [
       "<matplotlib.figure.Figure at 0x117aff60>"
      ]
     },
     "metadata": {},
     "output_type": "display_data"
    }
   ],
   "source": [
    "plt.figure(figsize=(16, 5))\n",
    "sns.barplot(train.columns, [normalized_mutual_info_score(train[c], target) for c in train.columns])\n",
    "_ = plt.xticks(rotation=90)"
   ]
  },
  {
   "cell_type": "markdown",
   "metadata": {},
   "source": [
    "Видно, что график сдвинут на 30, то есть значения f\\_x совпадает с значением f_\\(x+30) из чего можно сделать вывод, что признаки одинаковые."
   ]
  },
  {
   "cell_type": "code",
   "execution_count": 8,
   "metadata": {
    "collapsed": false
   },
   "outputs": [
    {
     "data": {
      "text/plain": [
       "Num\n",
       "0    48325.0\n",
       "1    24780.0\n",
       "2    87478.0\n",
       "Name: f9, dtype: float64"
      ]
     },
     "execution_count": 8,
     "metadata": {},
     "output_type": "execute_result"
    }
   ],
   "source": [
    "train['f9'][:3]"
   ]
  },
  {
   "cell_type": "code",
   "execution_count": 9,
   "metadata": {
    "collapsed": false
   },
   "outputs": [
    {
     "data": {
      "text/plain": [
       "Num\n",
       "0    48325.0\n",
       "1    24780.0\n",
       "2    87478.0\n",
       "Name: f39, dtype: float64"
      ]
     },
     "execution_count": 9,
     "metadata": {},
     "output_type": "execute_result"
    }
   ],
   "source": [
    "train['f39'][:3]"
   ]
  },
  {
   "cell_type": "code",
   "execution_count": 69,
   "metadata": {
    "collapsed": false
   },
   "outputs": [],
   "source": [
    "train['y'] = target"
   ]
  },
  {
   "cell_type": "markdown",
   "metadata": {},
   "source": [
    "Также видно, что сильнее всего на ответ влияет f60, посмотрим подробнее."
   ]
  },
  {
   "cell_type": "markdown",
   "metadata": {},
   "source": [
    "В переменной shift указано, на сколько недель значения признаков отстают от недели, записанной в week, используем эту информацию, выберем произвольный item_id."
   ]
  },
  {
   "cell_type": "code",
   "execution_count": 48,
   "metadata": {
    "collapsed": false
   },
   "outputs": [
    {
     "data": {
      "text/html": [
       "<div>\n",
       "<table border=\"1\" class=\"dataframe\">\n",
       "  <thead>\n",
       "    <tr style=\"text-align: right;\">\n",
       "      <th></th>\n",
       "      <th>year</th>\n",
       "      <th>week</th>\n",
       "      <th>shift</th>\n",
       "      <th>item_id</th>\n",
       "      <th>f1</th>\n",
       "      <th>f2</th>\n",
       "      <th>f3</th>\n",
       "      <th>f4</th>\n",
       "      <th>f5</th>\n",
       "      <th>f6</th>\n",
       "      <th>...</th>\n",
       "      <th>f52</th>\n",
       "      <th>f53</th>\n",
       "      <th>f54</th>\n",
       "      <th>f55</th>\n",
       "      <th>f56</th>\n",
       "      <th>f57</th>\n",
       "      <th>f58</th>\n",
       "      <th>f59</th>\n",
       "      <th>f60</th>\n",
       "      <th>y</th>\n",
       "    </tr>\n",
       "    <tr>\n",
       "      <th>Num</th>\n",
       "      <th></th>\n",
       "      <th></th>\n",
       "      <th></th>\n",
       "      <th></th>\n",
       "      <th></th>\n",
       "      <th></th>\n",
       "      <th></th>\n",
       "      <th></th>\n",
       "      <th></th>\n",
       "      <th></th>\n",
       "      <th></th>\n",
       "      <th></th>\n",
       "      <th></th>\n",
       "      <th></th>\n",
       "      <th></th>\n",
       "      <th></th>\n",
       "      <th></th>\n",
       "      <th></th>\n",
       "      <th></th>\n",
       "      <th></th>\n",
       "      <th></th>\n",
       "    </tr>\n",
       "  </thead>\n",
       "  <tbody>\n",
       "    <tr>\n",
       "      <th>7395</th>\n",
       "      <td>2013</td>\n",
       "      <td>4</td>\n",
       "      <td>3</td>\n",
       "      <td>20441582</td>\n",
       "      <td>370.0</td>\n",
       "      <td>140.0</td>\n",
       "      <td>1202.0</td>\n",
       "      <td>130.0</td>\n",
       "      <td>70.0</td>\n",
       "      <td>125.0</td>\n",
       "      <td>...</td>\n",
       "      <td>135.0</td>\n",
       "      <td>158.0</td>\n",
       "      <td>91.0</td>\n",
       "      <td>200.0</td>\n",
       "      <td>140.0</td>\n",
       "      <td>100.0</td>\n",
       "      <td>110.0</td>\n",
       "      <td>360.0</td>\n",
       "      <td>100.0</td>\n",
       "      <td>402</td>\n",
       "    </tr>\n",
       "    <tr>\n",
       "      <th>7396</th>\n",
       "      <td>2013</td>\n",
       "      <td>4</td>\n",
       "      <td>3</td>\n",
       "      <td>20442214</td>\n",
       "      <td>2740.0</td>\n",
       "      <td>3329.0</td>\n",
       "      <td>6601.0</td>\n",
       "      <td>2797.0</td>\n",
       "      <td>5782.0</td>\n",
       "      <td>3154.0</td>\n",
       "      <td>...</td>\n",
       "      <td>2630.0</td>\n",
       "      <td>2190.0</td>\n",
       "      <td>1690.0</td>\n",
       "      <td>3330.0</td>\n",
       "      <td>1770.0</td>\n",
       "      <td>2280.0</td>\n",
       "      <td>2951.0</td>\n",
       "      <td>6870.0</td>\n",
       "      <td>1080.0</td>\n",
       "      <td>3397</td>\n",
       "    </tr>\n",
       "    <tr>\n",
       "      <th>7397</th>\n",
       "      <td>2013</td>\n",
       "      <td>4</td>\n",
       "      <td>3</td>\n",
       "      <td>20441583</td>\n",
       "      <td>70.0</td>\n",
       "      <td>50.0</td>\n",
       "      <td>1288.0</td>\n",
       "      <td>35.0</td>\n",
       "      <td>15.0</td>\n",
       "      <td>70.0</td>\n",
       "      <td>...</td>\n",
       "      <td>70.0</td>\n",
       "      <td>120.0</td>\n",
       "      <td>45.0</td>\n",
       "      <td>190.0</td>\n",
       "      <td>80.0</td>\n",
       "      <td>80.0</td>\n",
       "      <td>85.0</td>\n",
       "      <td>275.0</td>\n",
       "      <td>30.0</td>\n",
       "      <td>104</td>\n",
       "    </tr>\n",
       "    <tr>\n",
       "      <th>7398</th>\n",
       "      <td>2013</td>\n",
       "      <td>4</td>\n",
       "      <td>3</td>\n",
       "      <td>20441584</td>\n",
       "      <td>70.0</td>\n",
       "      <td>115.0</td>\n",
       "      <td>1085.0</td>\n",
       "      <td>65.0</td>\n",
       "      <td>65.0</td>\n",
       "      <td>60.0</td>\n",
       "      <td>...</td>\n",
       "      <td>130.0</td>\n",
       "      <td>180.0</td>\n",
       "      <td>131.0</td>\n",
       "      <td>190.0</td>\n",
       "      <td>140.0</td>\n",
       "      <td>93.0</td>\n",
       "      <td>130.0</td>\n",
       "      <td>365.0</td>\n",
       "      <td>70.0</td>\n",
       "      <td>177</td>\n",
       "    </tr>\n",
       "  </tbody>\n",
       "</table>\n",
       "<p>4 rows × 65 columns</p>\n",
       "</div>"
      ],
      "text/plain": [
       "      year  week  shift   item_id      f1      f2      f3      f4      f5  \\\n",
       "Num                                                                         \n",
       "7395  2013     4      3  20441582   370.0   140.0  1202.0   130.0    70.0   \n",
       "7396  2013     4      3  20442214  2740.0  3329.0  6601.0  2797.0  5782.0   \n",
       "7397  2013     4      3  20441583    70.0    50.0  1288.0    35.0    15.0   \n",
       "7398  2013     4      3  20441584    70.0   115.0  1085.0    65.0    65.0   \n",
       "\n",
       "          f6  ...      f52     f53     f54     f55     f56     f57     f58  \\\n",
       "Num           ...                                                            \n",
       "7395   125.0  ...    135.0   158.0    91.0   200.0   140.0   100.0   110.0   \n",
       "7396  3154.0  ...   2630.0  2190.0  1690.0  3330.0  1770.0  2280.0  2951.0   \n",
       "7397    70.0  ...     70.0   120.0    45.0   190.0    80.0    80.0    85.0   \n",
       "7398    60.0  ...    130.0   180.0   131.0   190.0   140.0    93.0   130.0   \n",
       "\n",
       "         f59     f60     y  \n",
       "Num                         \n",
       "7395   360.0   100.0   402  \n",
       "7396  6870.0  1080.0  3397  \n",
       "7397   275.0    30.0   104  \n",
       "7398   365.0    70.0   177  \n",
       "\n",
       "[4 rows x 65 columns]"
      ]
     },
     "execution_count": 48,
     "metadata": {},
     "output_type": "execute_result"
    }
   ],
   "source": [
    "train.loc[(train['year']==2013) & (train['week'] == 4)][:4]"
   ]
  },
  {
   "cell_type": "code",
   "execution_count": 53,
   "metadata": {
    "collapsed": false
   },
   "outputs": [],
   "source": [
    "A = train.loc[(train['item_id'] == 20441582) & (train['week']==4+3)]"
   ]
  },
  {
   "cell_type": "code",
   "execution_count": 54,
   "metadata": {
    "collapsed": false
   },
   "outputs": [
    {
     "data": {
      "text/html": [
       "<div>\n",
       "<table border=\"1\" class=\"dataframe\">\n",
       "  <thead>\n",
       "    <tr style=\"text-align: right;\">\n",
       "      <th></th>\n",
       "      <th>year</th>\n",
       "      <th>week</th>\n",
       "      <th>shift</th>\n",
       "      <th>item_id</th>\n",
       "      <th>f1</th>\n",
       "      <th>f2</th>\n",
       "      <th>f3</th>\n",
       "      <th>f4</th>\n",
       "      <th>f5</th>\n",
       "      <th>f6</th>\n",
       "      <th>...</th>\n",
       "      <th>f52</th>\n",
       "      <th>f53</th>\n",
       "      <th>f54</th>\n",
       "      <th>f55</th>\n",
       "      <th>f56</th>\n",
       "      <th>f57</th>\n",
       "      <th>f58</th>\n",
       "      <th>f59</th>\n",
       "      <th>f60</th>\n",
       "      <th>y</th>\n",
       "    </tr>\n",
       "    <tr>\n",
       "      <th>Num</th>\n",
       "      <th></th>\n",
       "      <th></th>\n",
       "      <th></th>\n",
       "      <th></th>\n",
       "      <th></th>\n",
       "      <th></th>\n",
       "      <th></th>\n",
       "      <th></th>\n",
       "      <th></th>\n",
       "      <th></th>\n",
       "      <th></th>\n",
       "      <th></th>\n",
       "      <th></th>\n",
       "      <th></th>\n",
       "      <th></th>\n",
       "      <th></th>\n",
       "      <th></th>\n",
       "      <th></th>\n",
       "      <th></th>\n",
       "      <th></th>\n",
       "      <th></th>\n",
       "    </tr>\n",
       "  </thead>\n",
       "  <tbody>\n",
       "    <tr>\n",
       "      <th>17830</th>\n",
       "      <td>2013</td>\n",
       "      <td>7</td>\n",
       "      <td>3</td>\n",
       "      <td>20441582</td>\n",
       "      <td>130.0</td>\n",
       "      <td>70.0</td>\n",
       "      <td>125.0</td>\n",
       "      <td>115.0</td>\n",
       "      <td>250.0</td>\n",
       "      <td>138.0</td>\n",
       "      <td>...</td>\n",
       "      <td>200.0</td>\n",
       "      <td>140.0</td>\n",
       "      <td>100.0</td>\n",
       "      <td>110.0</td>\n",
       "      <td>360.0</td>\n",
       "      <td>100.0</td>\n",
       "      <td>30.0</td>\n",
       "      <td>75.0</td>\n",
       "      <td>250.0</td>\n",
       "      <td>96</td>\n",
       "    </tr>\n",
       "    <tr>\n",
       "      <th>21051</th>\n",
       "      <td>2013</td>\n",
       "      <td>7</td>\n",
       "      <td>2</td>\n",
       "      <td>20441582</td>\n",
       "      <td>70.0</td>\n",
       "      <td>125.0</td>\n",
       "      <td>115.0</td>\n",
       "      <td>250.0</td>\n",
       "      <td>138.0</td>\n",
       "      <td>90.0</td>\n",
       "      <td>...</td>\n",
       "      <td>140.0</td>\n",
       "      <td>100.0</td>\n",
       "      <td>110.0</td>\n",
       "      <td>360.0</td>\n",
       "      <td>100.0</td>\n",
       "      <td>30.0</td>\n",
       "      <td>75.0</td>\n",
       "      <td>250.0</td>\n",
       "      <td>215.0</td>\n",
       "      <td>96</td>\n",
       "    </tr>\n",
       "    <tr>\n",
       "      <th>24268</th>\n",
       "      <td>2013</td>\n",
       "      <td>7</td>\n",
       "      <td>1</td>\n",
       "      <td>20441582</td>\n",
       "      <td>125.0</td>\n",
       "      <td>115.0</td>\n",
       "      <td>250.0</td>\n",
       "      <td>138.0</td>\n",
       "      <td>90.0</td>\n",
       "      <td>315.0</td>\n",
       "      <td>...</td>\n",
       "      <td>100.0</td>\n",
       "      <td>110.0</td>\n",
       "      <td>360.0</td>\n",
       "      <td>100.0</td>\n",
       "      <td>30.0</td>\n",
       "      <td>75.0</td>\n",
       "      <td>250.0</td>\n",
       "      <td>215.0</td>\n",
       "      <td>115.0</td>\n",
       "      <td>96</td>\n",
       "    </tr>\n",
       "  </tbody>\n",
       "</table>\n",
       "<p>3 rows × 65 columns</p>\n",
       "</div>"
      ],
      "text/plain": [
       "       year  week  shift   item_id     f1     f2     f3     f4     f5     f6  \\\n",
       "Num                                                                            \n",
       "17830  2013     7      3  20441582  130.0   70.0  125.0  115.0  250.0  138.0   \n",
       "21051  2013     7      2  20441582   70.0  125.0  115.0  250.0  138.0   90.0   \n",
       "24268  2013     7      1  20441582  125.0  115.0  250.0  138.0   90.0  315.0   \n",
       "\n",
       "      ...    f52    f53    f54    f55    f56    f57    f58    f59    f60   y  \n",
       "Num   ...                                                                     \n",
       "17830 ...  200.0  140.0  100.0  110.0  360.0  100.0   30.0   75.0  250.0  96  \n",
       "21051 ...  140.0  100.0  110.0  360.0  100.0   30.0   75.0  250.0  215.0  96  \n",
       "24268 ...  100.0  110.0  360.0  100.0   30.0   75.0  250.0  215.0  115.0  96  \n",
       "\n",
       "[3 rows x 65 columns]"
      ]
     },
     "execution_count": 54,
     "metadata": {},
     "output_type": "execute_result"
    }
   ],
   "source": [
    "A"
   ]
  },
  {
   "cell_type": "markdown",
   "metadata": {},
   "source": [
    "Видно, что ряды признаков f1..f60 сдвинуты друг относительно друга, вообще, все эти признаки скорее всего детерминированно связаны друг с другом, поэтому нет смысла рассматривать все из них, достаточно смотреть на f60, так как он больше остальных влияет на результат."
   ]
  },
  {
   "cell_type": "code",
   "execution_count": 71,
   "metadata": {
    "collapsed": false
   },
   "outputs": [],
   "source": [
    "cols = ['year', 'week', 'shift', 'item_id', 'f60', 'y']\n",
    "train = train[cols]"
   ]
  },
  {
   "cell_type": "code",
   "execution_count": 72,
   "metadata": {
    "collapsed": false
   },
   "outputs": [
    {
     "data": {
      "text/html": [
       "<div>\n",
       "<table border=\"1\" class=\"dataframe\">\n",
       "  <thead>\n",
       "    <tr style=\"text-align: right;\">\n",
       "      <th></th>\n",
       "      <th>year</th>\n",
       "      <th>week</th>\n",
       "      <th>shift</th>\n",
       "      <th>item_id</th>\n",
       "      <th>f60</th>\n",
       "      <th>y</th>\n",
       "    </tr>\n",
       "    <tr>\n",
       "      <th>Num</th>\n",
       "      <th></th>\n",
       "      <th></th>\n",
       "      <th></th>\n",
       "      <th></th>\n",
       "      <th></th>\n",
       "      <th></th>\n",
       "    </tr>\n",
       "  </thead>\n",
       "  <tbody>\n",
       "    <tr>\n",
       "      <th>0</th>\n",
       "      <td>2012</td>\n",
       "      <td>52</td>\n",
       "      <td>1</td>\n",
       "      <td>20442076</td>\n",
       "      <td>45239.0</td>\n",
       "      <td>123438</td>\n",
       "    </tr>\n",
       "    <tr>\n",
       "      <th>1</th>\n",
       "      <td>2012</td>\n",
       "      <td>52</td>\n",
       "      <td>1</td>\n",
       "      <td>20441997</td>\n",
       "      <td>23200.0</td>\n",
       "      <td>58410</td>\n",
       "    </tr>\n",
       "    <tr>\n",
       "      <th>2</th>\n",
       "      <td>2012</td>\n",
       "      <td>52</td>\n",
       "      <td>1</td>\n",
       "      <td>20441990</td>\n",
       "      <td>36520.0</td>\n",
       "      <td>163930</td>\n",
       "    </tr>\n",
       "    <tr>\n",
       "      <th>3</th>\n",
       "      <td>2012</td>\n",
       "      <td>52</td>\n",
       "      <td>1</td>\n",
       "      <td>20441989</td>\n",
       "      <td>9630.0</td>\n",
       "      <td>53902</td>\n",
       "    </tr>\n",
       "    <tr>\n",
       "      <th>4</th>\n",
       "      <td>2012</td>\n",
       "      <td>52</td>\n",
       "      <td>1</td>\n",
       "      <td>20441988</td>\n",
       "      <td>21793.0</td>\n",
       "      <td>105970</td>\n",
       "    </tr>\n",
       "  </tbody>\n",
       "</table>\n",
       "</div>"
      ],
      "text/plain": [
       "     year  week  shift   item_id      f60       y\n",
       "Num                                              \n",
       "0    2012    52      1  20442076  45239.0  123438\n",
       "1    2012    52      1  20441997  23200.0   58410\n",
       "2    2012    52      1  20441990  36520.0  163930\n",
       "3    2012    52      1  20441989   9630.0   53902\n",
       "4    2012    52      1  20441988  21793.0  105970"
      ]
     },
     "execution_count": 72,
     "metadata": {},
     "output_type": "execute_result"
    }
   ],
   "source": [
    "train[:5]"
   ]
  },
  {
   "cell_type": "markdown",
   "metadata": {},
   "source": [
    "Идея: связать f60 со значением y, сдвинутым на shift недель назад, если это возможно, то тогда значения f1 должны совпадать при постоянной разнице week-shift, проверим это для произвольных item_id и week-shift."
   ]
  },
  {
   "cell_type": "code",
   "execution_count": 73,
   "metadata": {
    "collapsed": true
   },
   "outputs": [],
   "source": [
    "A = train.loc[(train['item_id'] == 20441582) & (train['week']==4+train['shift'])]"
   ]
  },
  {
   "cell_type": "code",
   "execution_count": 74,
   "metadata": {
    "collapsed": false
   },
   "outputs": [
    {
     "data": {
      "text/html": [
       "<div>\n",
       "<table border=\"1\" class=\"dataframe\">\n",
       "  <thead>\n",
       "    <tr style=\"text-align: right;\">\n",
       "      <th></th>\n",
       "      <th>year</th>\n",
       "      <th>week</th>\n",
       "      <th>shift</th>\n",
       "      <th>item_id</th>\n",
       "      <th>f60</th>\n",
       "      <th>y</th>\n",
       "    </tr>\n",
       "    <tr>\n",
       "      <th>Num</th>\n",
       "      <th></th>\n",
       "      <th></th>\n",
       "      <th></th>\n",
       "      <th></th>\n",
       "      <th></th>\n",
       "      <th></th>\n",
       "    </tr>\n",
       "  </thead>\n",
       "  <tbody>\n",
       "    <tr>\n",
       "      <th>17351</th>\n",
       "      <td>2013</td>\n",
       "      <td>5</td>\n",
       "      <td>1</td>\n",
       "      <td>20441582</td>\n",
       "      <td>250.0</td>\n",
       "      <td>346</td>\n",
       "    </tr>\n",
       "    <tr>\n",
       "      <th>17583</th>\n",
       "      <td>2013</td>\n",
       "      <td>6</td>\n",
       "      <td>2</td>\n",
       "      <td>20441582</td>\n",
       "      <td>250.0</td>\n",
       "      <td>185</td>\n",
       "    </tr>\n",
       "    <tr>\n",
       "      <th>17830</th>\n",
       "      <td>2013</td>\n",
       "      <td>7</td>\n",
       "      <td>3</td>\n",
       "      <td>20441582</td>\n",
       "      <td>250.0</td>\n",
       "      <td>96</td>\n",
       "    </tr>\n",
       "  </tbody>\n",
       "</table>\n",
       "</div>"
      ],
      "text/plain": [
       "       year  week  shift   item_id    f60    y\n",
       "Num                                           \n",
       "17351  2013     5      1  20441582  250.0  346\n",
       "17583  2013     6      2  20441582  250.0  185\n",
       "17830  2013     7      3  20441582  250.0   96"
      ]
     },
     "execution_count": 74,
     "metadata": {},
     "output_type": "execute_result"
    }
   ],
   "source": [
    "A"
   ]
  },
  {
   "cell_type": "markdown",
   "metadata": {},
   "source": [
    "Осталось придумать, как связаны f60 и y, сдвинутый на неделю."
   ]
  },
  {
   "cell_type": "code",
   "execution_count": 75,
   "metadata": {
    "collapsed": false
   },
   "outputs": [
    {
     "data": {
      "text/html": [
       "<div>\n",
       "<table border=\"1\" class=\"dataframe\">\n",
       "  <thead>\n",
       "    <tr style=\"text-align: right;\">\n",
       "      <th></th>\n",
       "      <th>year</th>\n",
       "      <th>week</th>\n",
       "      <th>shift</th>\n",
       "      <th>item_id</th>\n",
       "      <th>f60</th>\n",
       "      <th>y</th>\n",
       "    </tr>\n",
       "    <tr>\n",
       "      <th>Num</th>\n",
       "      <th></th>\n",
       "      <th></th>\n",
       "      <th></th>\n",
       "      <th></th>\n",
       "      <th></th>\n",
       "      <th></th>\n",
       "    </tr>\n",
       "  </thead>\n",
       "  <tbody>\n",
       "    <tr>\n",
       "      <th>7395</th>\n",
       "      <td>2013</td>\n",
       "      <td>4</td>\n",
       "      <td>3</td>\n",
       "      <td>20441582</td>\n",
       "      <td>100.0</td>\n",
       "      <td>402</td>\n",
       "    </tr>\n",
       "    <tr>\n",
       "      <th>10624</th>\n",
       "      <td>2013</td>\n",
       "      <td>4</td>\n",
       "      <td>2</td>\n",
       "      <td>20441582</td>\n",
       "      <td>30.0</td>\n",
       "      <td>402</td>\n",
       "    </tr>\n",
       "    <tr>\n",
       "      <th>13851</th>\n",
       "      <td>2013</td>\n",
       "      <td>4</td>\n",
       "      <td>1</td>\n",
       "      <td>20441582</td>\n",
       "      <td>75.0</td>\n",
       "      <td>402</td>\n",
       "    </tr>\n",
       "  </tbody>\n",
       "</table>\n",
       "</div>"
      ],
      "text/plain": [
       "       year  week  shift   item_id    f60    y\n",
       "Num                                           \n",
       "7395   2013     4      3  20441582  100.0  402\n",
       "10624  2013     4      2  20441582   30.0  402\n",
       "13851  2013     4      1  20441582   75.0  402"
      ]
     },
     "execution_count": 75,
     "metadata": {},
     "output_type": "execute_result"
    }
   ],
   "source": [
    "train.loc[(train['item_id'] == 20441582) & (train['week']==4)]"
   ]
  },
  {
   "cell_type": "markdown",
   "metadata": {},
   "source": [
    "Видим значения 250 и 402."
   ]
  },
  {
   "cell_type": "code",
   "execution_count": 77,
   "metadata": {
    "collapsed": false
   },
   "outputs": [
    {
     "data": {
      "text/plain": [
       "1.608"
      ]
     },
     "execution_count": 77,
     "metadata": {},
     "output_type": "execute_result"
    }
   ],
   "source": [
    "402/250."
   ]
  },
  {
   "cell_type": "code",
   "execution_count": null,
   "metadata": {
    "collapsed": true
   },
   "outputs": [],
   "source": []
  }
 ],
 "metadata": {
  "kernelspec": {
   "display_name": "Python 2",
   "language": "python",
   "name": "python2"
  },
  "language_info": {
   "codemirror_mode": {
    "name": "ipython",
    "version": 2
   },
   "file_extension": ".py",
   "mimetype": "text/x-python",
   "name": "python",
   "nbconvert_exporter": "python",
   "pygments_lexer": "ipython2",
   "version": "2.7.12"
  }
 },
 "nbformat": 4,
 "nbformat_minor": 0
}
